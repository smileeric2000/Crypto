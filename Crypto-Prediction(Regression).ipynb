{
 "cells": [
  {
   "cell_type": "markdown",
   "id": "b728636c-b09f-441b-a7c6-5fea9a14978e",
   "metadata": {},
   "source": [
    "## Predict Crypto-Price\n",
    "\n"
   ]
  },
  {
   "cell_type": "markdown",
   "id": "63f2077f-ac7e-4ce7-b22e-3ed3024d49cf",
   "metadata": {},
   "source": [
    "#### Load data"
   ]
  },
  {
   "cell_type": "code",
   "execution_count": 1,
   "id": "884ec5c8-d63f-4350-9751-5be40ddca028",
   "metadata": {},
   "outputs": [],
   "source": [
    "#pip install python-binance  ta"
   ]
  },
  {
   "cell_type": "code",
   "execution_count": 2,
   "id": "9797e929-2799-45e9-b7c2-f2adb281162a",
   "metadata": {},
   "outputs": [],
   "source": [
    "import pandas as pd\n",
    "import ta\n",
    "import requests\n"
   ]
  },
  {
   "cell_type": "code",
   "execution_count": 3,
   "id": "360ac8e5-f3f8-42f5-bbe8-bc8630b93ada",
   "metadata": {},
   "outputs": [
    {
     "name": "stdout",
     "output_type": "stream",
     "text": [
      "                         high       low      open  volumefrom      volumeto  \\\n",
      "time                                                                          \n",
      "2025-02-26 14:00:00  87618.79  85397.67  87105.93     6540.77  5.653567e+08   \n",
      "2025-02-26 15:00:00  88443.93  87322.84  87532.93     3789.81  3.328138e+08   \n",
      "2025-02-26 16:00:00  87707.96  86196.02  87462.81     3352.34  2.912486e+08   \n",
      "2025-02-26 17:00:00  87203.05  85606.44  86715.99     2684.13  2.322850e+08   \n",
      "2025-02-26 18:00:00  86410.64  83478.28  85964.60     9906.15  8.392586e+08   \n",
      "\n",
      "                        close conversionType conversionSymbol  \n",
      "time                                                           \n",
      "2025-02-26 14:00:00  87532.93         direct                   \n",
      "2025-02-26 15:00:00  87462.81         direct                   \n",
      "2025-02-26 16:00:00  86715.99         direct                   \n",
      "2025-02-26 17:00:00  85964.60         direct                   \n",
      "2025-02-26 18:00:00  84203.28         direct                   \n"
     ]
    }
   ],
   "source": [
    "#API = 2fd7d110c2283b5ebc80bc2b33cf63226b5e5cefd82696595f6bde8063fca87f\n",
    "\n",
    "\n",
    "api_key = '2fd7d110c2283b5ebc80bc2b33cf63226b5e5cefd82696595f6bde8063fca87f'  \n",
    "\n",
    "url = \"https://min-api.cryptocompare.com/data/v2/histohour\"   \n",
    "\n",
    "parameters = {\n",
    "    'fsym': 'BTC',       # from symbol\n",
    "    'tsym': 'USD',       # to symbol\n",
    "    'limit': 2000,        # number of days\n",
    "    'api_key': api_key\n",
    "}\n",
    "\n",
    "response = requests.get(url, params=parameters)\n",
    "data = response.json()\n",
    "\n",
    "# Check if the response is OK\n",
    "if data['Response'] == 'Success':\n",
    "    ohlcv = data['Data']['Data']\n",
    "    df = pd.DataFrame(ohlcv)\n",
    "    df['time'] = pd.to_datetime(df['time'], unit='s')\n",
    "    df.set_index('time', inplace=True)\n",
    "    \n",
    "    print(df.head())\n",
    "else:\n",
    "    print(\"Error fetching data:\", data['Message'])\n"
   ]
  },
  {
   "cell_type": "code",
   "execution_count": 4,
   "id": "e75fb057-ff7f-4c1f-9bf3-a0b458c43ad7",
   "metadata": {},
   "outputs": [
    {
     "data": {
      "text/plain": [
       "dict_keys(['Response', 'Message', 'HasWarning', 'Type', 'RateLimit', 'Data'])"
      ]
     },
     "execution_count": 4,
     "metadata": {},
     "output_type": "execute_result"
    }
   ],
   "source": [
    "data.keys()"
   ]
  },
  {
   "cell_type": "code",
   "execution_count": 5,
   "id": "00f64772-b420-4251-8460-8263b9216c88",
   "metadata": {},
   "outputs": [
    {
     "data": {
      "text/plain": [
       "'Success'"
      ]
     },
     "execution_count": 5,
     "metadata": {},
     "output_type": "execute_result"
    }
   ],
   "source": [
    "data['Response']"
   ]
  },
  {
   "cell_type": "markdown",
   "id": "b754010d-6aa3-4277-8e10-f0edd3019866",
   "metadata": {},
   "source": [
    "#### Prepare dataframe and add indicators"
   ]
  },
  {
   "cell_type": "code",
   "execution_count": 6,
   "id": "eebb83b6-c818-42d2-87d8-ee5a77cc9134",
   "metadata": {},
   "outputs": [],
   "source": [
    "# 1. Add technical indicators\n",
    "\n",
    "df['MA20'] = df['close'].rolling(window=20).mean()\n",
    "df['RSI'] = ta.momentum.RSIIndicator(df['close']).rsi()\n",
    "df['MACD'] = ta.trend.MACD(df['close']).macd()\n",
    "df['MACD_signal'] = ta.trend.MACD(df['close']).macd_signal()\n"
   ]
  },
  {
   "cell_type": "code",
   "execution_count": 7,
   "id": "d2885309-0af5-4f18-90a6-67dfc0ca9fce",
   "metadata": {},
   "outputs": [
    {
     "data": {
      "text/html": [
       "<div>\n",
       "<style scoped>\n",
       "    .dataframe tbody tr th:only-of-type {\n",
       "        vertical-align: middle;\n",
       "    }\n",
       "\n",
       "    .dataframe tbody tr th {\n",
       "        vertical-align: top;\n",
       "    }\n",
       "\n",
       "    .dataframe thead th {\n",
       "        text-align: right;\n",
       "    }\n",
       "</style>\n",
       "<table border=\"1\" class=\"dataframe\">\n",
       "  <thead>\n",
       "    <tr style=\"text-align: right;\">\n",
       "      <th></th>\n",
       "      <th>high</th>\n",
       "      <th>low</th>\n",
       "      <th>open</th>\n",
       "      <th>volumefrom</th>\n",
       "      <th>volumeto</th>\n",
       "      <th>close</th>\n",
       "      <th>conversionType</th>\n",
       "      <th>conversionSymbol</th>\n",
       "      <th>MA20</th>\n",
       "      <th>RSI</th>\n",
       "      <th>MACD</th>\n",
       "      <th>MACD_signal</th>\n",
       "    </tr>\n",
       "    <tr>\n",
       "      <th>time</th>\n",
       "      <th></th>\n",
       "      <th></th>\n",
       "      <th></th>\n",
       "      <th></th>\n",
       "      <th></th>\n",
       "      <th></th>\n",
       "      <th></th>\n",
       "      <th></th>\n",
       "      <th></th>\n",
       "      <th></th>\n",
       "      <th></th>\n",
       "      <th></th>\n",
       "    </tr>\n",
       "  </thead>\n",
       "  <tbody>\n",
       "    <tr>\n",
       "      <th>2025-02-26 14:00:00</th>\n",
       "      <td>87618.79</td>\n",
       "      <td>85397.67</td>\n",
       "      <td>87105.93</td>\n",
       "      <td>6540.77</td>\n",
       "      <td>5.653567e+08</td>\n",
       "      <td>87532.93</td>\n",
       "      <td>direct</td>\n",
       "      <td></td>\n",
       "      <td>NaN</td>\n",
       "      <td>NaN</td>\n",
       "      <td>NaN</td>\n",
       "      <td>NaN</td>\n",
       "    </tr>\n",
       "    <tr>\n",
       "      <th>2025-02-26 15:00:00</th>\n",
       "      <td>88443.93</td>\n",
       "      <td>87322.84</td>\n",
       "      <td>87532.93</td>\n",
       "      <td>3789.81</td>\n",
       "      <td>3.328138e+08</td>\n",
       "      <td>87462.81</td>\n",
       "      <td>direct</td>\n",
       "      <td></td>\n",
       "      <td>NaN</td>\n",
       "      <td>NaN</td>\n",
       "      <td>NaN</td>\n",
       "      <td>NaN</td>\n",
       "    </tr>\n",
       "  </tbody>\n",
       "</table>\n",
       "</div>"
      ],
      "text/plain": [
       "                         high       low      open  volumefrom      volumeto  \\\n",
       "time                                                                          \n",
       "2025-02-26 14:00:00  87618.79  85397.67  87105.93     6540.77  5.653567e+08   \n",
       "2025-02-26 15:00:00  88443.93  87322.84  87532.93     3789.81  3.328138e+08   \n",
       "\n",
       "                        close conversionType conversionSymbol  MA20  RSI  \\\n",
       "time                                                                       \n",
       "2025-02-26 14:00:00  87532.93         direct                    NaN  NaN   \n",
       "2025-02-26 15:00:00  87462.81         direct                    NaN  NaN   \n",
       "\n",
       "                     MACD  MACD_signal  \n",
       "time                                    \n",
       "2025-02-26 14:00:00   NaN          NaN  \n",
       "2025-02-26 15:00:00   NaN          NaN  "
      ]
     },
     "execution_count": 7,
     "metadata": {},
     "output_type": "execute_result"
    }
   ],
   "source": [
    "df.head(2)"
   ]
  },
  {
   "cell_type": "code",
   "execution_count": 8,
   "id": "989bcb82-26aa-4ce8-97a2-983e394f473a",
   "metadata": {},
   "outputs": [],
   "source": [
    "# Lag features (price from previous hour)\n",
    "df['Lag_1'] = df['close'].shift(1)\n",
    "df['Lag_2'] = df['close'].shift(2)"
   ]
  },
  {
   "cell_type": "code",
   "execution_count": 9,
   "id": "bd48c1ec-cec7-4bab-9f1d-d9f6980277b5",
   "metadata": {},
   "outputs": [
    {
     "data": {
      "text/html": [
       "<div>\n",
       "<style scoped>\n",
       "    .dataframe tbody tr th:only-of-type {\n",
       "        vertical-align: middle;\n",
       "    }\n",
       "\n",
       "    .dataframe tbody tr th {\n",
       "        vertical-align: top;\n",
       "    }\n",
       "\n",
       "    .dataframe thead th {\n",
       "        text-align: right;\n",
       "    }\n",
       "</style>\n",
       "<table border=\"1\" class=\"dataframe\">\n",
       "  <thead>\n",
       "    <tr style=\"text-align: right;\">\n",
       "      <th></th>\n",
       "      <th>high</th>\n",
       "      <th>low</th>\n",
       "      <th>open</th>\n",
       "      <th>volumefrom</th>\n",
       "      <th>volumeto</th>\n",
       "      <th>close</th>\n",
       "      <th>conversionType</th>\n",
       "      <th>conversionSymbol</th>\n",
       "      <th>MA20</th>\n",
       "      <th>RSI</th>\n",
       "      <th>MACD</th>\n",
       "      <th>MACD_signal</th>\n",
       "      <th>Lag_1</th>\n",
       "      <th>Lag_2</th>\n",
       "    </tr>\n",
       "    <tr>\n",
       "      <th>time</th>\n",
       "      <th></th>\n",
       "      <th></th>\n",
       "      <th></th>\n",
       "      <th></th>\n",
       "      <th></th>\n",
       "      <th></th>\n",
       "      <th></th>\n",
       "      <th></th>\n",
       "      <th></th>\n",
       "      <th></th>\n",
       "      <th></th>\n",
       "      <th></th>\n",
       "      <th></th>\n",
       "      <th></th>\n",
       "    </tr>\n",
       "  </thead>\n",
       "  <tbody>\n",
       "    <tr>\n",
       "      <th>2025-02-26 14:00:00</th>\n",
       "      <td>87618.79</td>\n",
       "      <td>85397.67</td>\n",
       "      <td>87105.93</td>\n",
       "      <td>6540.77</td>\n",
       "      <td>5.653567e+08</td>\n",
       "      <td>87532.93</td>\n",
       "      <td>direct</td>\n",
       "      <td></td>\n",
       "      <td>NaN</td>\n",
       "      <td>NaN</td>\n",
       "      <td>NaN</td>\n",
       "      <td>NaN</td>\n",
       "      <td>NaN</td>\n",
       "      <td>NaN</td>\n",
       "    </tr>\n",
       "    <tr>\n",
       "      <th>2025-02-26 15:00:00</th>\n",
       "      <td>88443.93</td>\n",
       "      <td>87322.84</td>\n",
       "      <td>87532.93</td>\n",
       "      <td>3789.81</td>\n",
       "      <td>3.328138e+08</td>\n",
       "      <td>87462.81</td>\n",
       "      <td>direct</td>\n",
       "      <td></td>\n",
       "      <td>NaN</td>\n",
       "      <td>NaN</td>\n",
       "      <td>NaN</td>\n",
       "      <td>NaN</td>\n",
       "      <td>87532.93</td>\n",
       "      <td>NaN</td>\n",
       "    </tr>\n",
       "  </tbody>\n",
       "</table>\n",
       "</div>"
      ],
      "text/plain": [
       "                         high       low      open  volumefrom      volumeto  \\\n",
       "time                                                                          \n",
       "2025-02-26 14:00:00  87618.79  85397.67  87105.93     6540.77  5.653567e+08   \n",
       "2025-02-26 15:00:00  88443.93  87322.84  87532.93     3789.81  3.328138e+08   \n",
       "\n",
       "                        close conversionType conversionSymbol  MA20  RSI  \\\n",
       "time                                                                       \n",
       "2025-02-26 14:00:00  87532.93         direct                    NaN  NaN   \n",
       "2025-02-26 15:00:00  87462.81         direct                    NaN  NaN   \n",
       "\n",
       "                     MACD  MACD_signal     Lag_1  Lag_2  \n",
       "time                                                     \n",
       "2025-02-26 14:00:00   NaN          NaN       NaN    NaN  \n",
       "2025-02-26 15:00:00   NaN          NaN  87532.93    NaN  "
      ]
     },
     "execution_count": 9,
     "metadata": {},
     "output_type": "execute_result"
    }
   ],
   "source": [
    "df.head(2)"
   ]
  },
  {
   "cell_type": "markdown",
   "id": "0d2627a0-b6d6-45bc-a772-72ecb5bfc953",
   "metadata": {},
   "source": [
    "## Preprocess data\n",
    "\n",
    "Handle null values"
   ]
  },
  {
   "cell_type": "code",
   "execution_count": 10,
   "id": "4e8620c7-888a-428b-9101-11e47180ca8a",
   "metadata": {},
   "outputs": [
    {
     "data": {
      "text/plain": [
       "high                 0\n",
       "low                  0\n",
       "open                 0\n",
       "volumefrom           0\n",
       "volumeto             0\n",
       "close                0\n",
       "conversionType       0\n",
       "conversionSymbol     0\n",
       "MA20                19\n",
       "RSI                 13\n",
       "MACD                25\n",
       "MACD_signal         33\n",
       "Lag_1                1\n",
       "Lag_2                2\n",
       "dtype: int64"
      ]
     },
     "execution_count": 10,
     "metadata": {},
     "output_type": "execute_result"
    }
   ],
   "source": [
    "df.isna().sum()"
   ]
  },
  {
   "cell_type": "raw",
   "id": "deaadea5-8543-4d51-b14b-85e22f40f60d",
   "metadata": {},
   "source": [
    "NOTE:\n",
    "    Reasons for the null values===> \n",
    "    1) MA20 (20-hour Moving Average):\n",
    "    This is the average of the last 20 closing prices.\n",
    "    So: the first 19 rows won’t have a value, because you need 20 data points to compute the first MA20.\n",
    "\n",
    "    2) RSI (Relative Strength Index)\n",
    "    Typically calculated over 14 hours.\n",
    "    The first 13 rows will be NaN for the same reason — insufficient historical data.\n",
    "\n",
    "    3) MACD and MACD_signal\n",
    "    MACD is the difference between the 12-hours EMA and the 26-hours EMA.\n",
    "    MACD signal is a 9-hour EMA of the MACD.\n",
    "    So, you need at least 26 rows to get the first MACD value, and more for the signal line.\n",
    "\n",
    "    4) Lag_1, Lag_2\n",
    "    These are just shifted values of the close column.\n",
    "    Lag_1 shifts prices by 1 hour: the first row becomes NaN.\n",
    "    Lag_2 shifts prices by 2 hours: the first 2 rows become NaN.\n",
    "\n",
    "Therefore dropping null values is the same as dropping the first 26 rows of the data"
   ]
  },
  {
   "cell_type": "code",
   "execution_count": 11,
   "id": "305b525a-1f90-4ee5-830a-28a8674b3551",
   "metadata": {},
   "outputs": [],
   "source": [
    "#Drop null values (first 26 rows of the data)\n",
    "df.dropna(inplace = True)"
   ]
  },
  {
   "cell_type": "raw",
   "id": "f48ac67d-30df-4b28-a9d8-85aa71ec7eee",
   "metadata": {},
   "source": [
    "Now we have a data of 82.28 days"
   ]
  },
  {
   "cell_type": "markdown",
   "id": "270d9a02-68b6-4f1c-a2a7-ec086a3411d7",
   "metadata": {},
   "source": [
    "#### Save dataframe locally"
   ]
  },
  {
   "cell_type": "code",
   "execution_count": 12,
   "id": "e65e3090-b63b-4990-98d3-fcab881eb708",
   "metadata": {},
   "outputs": [],
   "source": [
    "df.to_csv(\"crypto_hourly_data.csv\", index=False)"
   ]
  },
  {
   "cell_type": "markdown",
   "id": "fb34ce66-ecb5-41c3-b48b-9baedf0b23ef",
   "metadata": {},
   "source": [
    "## Feature Engineering"
   ]
  },
  {
   "cell_type": "raw",
   "id": "46684495-82dd-4096-9ccd-6ea801669b5b",
   "metadata": {},
   "source": [
    "Drop empty column "
   ]
  },
  {
   "cell_type": "code",
   "execution_count": 13,
   "id": "3febfbfe-d3bb-460a-89d4-72c49985ec21",
   "metadata": {},
   "outputs": [],
   "source": [
    "df.drop('conversionSymbol', axis = 1, inplace = True)"
   ]
  },
  {
   "cell_type": "markdown",
   "id": "f5ce94a9-da8f-48c3-90ee-346ceeed4198",
   "metadata": {
    "jp-MarkdownHeadingCollapsed": true
   },
   "source": [
    "#### Handle categorical data"
   ]
  },
  {
   "cell_type": "code",
   "execution_count": 14,
   "id": "2143bd6a-621d-46dc-91b5-3c680728702d",
   "metadata": {},
   "outputs": [
    {
     "data": {
      "text/plain": [
       "1"
      ]
     },
     "execution_count": 14,
     "metadata": {},
     "output_type": "execute_result"
    }
   ],
   "source": [
    "df['conversionType'].nunique()"
   ]
  },
  {
   "cell_type": "code",
   "execution_count": 15,
   "id": "434be7a4-183a-4823-9b09-aed2208b1b37",
   "metadata": {},
   "outputs": [],
   "source": [
    "df['conversionType'] = df['conversionType'].map({'direct' : 1}).astype('i1')"
   ]
  },
  {
   "cell_type": "code",
   "execution_count": 16,
   "id": "30929294-99c6-454c-b6cb-8f76d21f0f05",
   "metadata": {},
   "outputs": [
    {
     "data": {
      "text/html": [
       "<div>\n",
       "<style scoped>\n",
       "    .dataframe tbody tr th:only-of-type {\n",
       "        vertical-align: middle;\n",
       "    }\n",
       "\n",
       "    .dataframe tbody tr th {\n",
       "        vertical-align: top;\n",
       "    }\n",
       "\n",
       "    .dataframe thead th {\n",
       "        text-align: right;\n",
       "    }\n",
       "</style>\n",
       "<table border=\"1\" class=\"dataframe\">\n",
       "  <thead>\n",
       "    <tr style=\"text-align: right;\">\n",
       "      <th></th>\n",
       "      <th>high</th>\n",
       "      <th>low</th>\n",
       "      <th>open</th>\n",
       "      <th>volumefrom</th>\n",
       "      <th>volumeto</th>\n",
       "      <th>close</th>\n",
       "      <th>conversionType</th>\n",
       "      <th>MA20</th>\n",
       "      <th>RSI</th>\n",
       "      <th>MACD</th>\n",
       "      <th>MACD_signal</th>\n",
       "      <th>Lag_1</th>\n",
       "      <th>Lag_2</th>\n",
       "    </tr>\n",
       "    <tr>\n",
       "      <th>time</th>\n",
       "      <th></th>\n",
       "      <th></th>\n",
       "      <th></th>\n",
       "      <th></th>\n",
       "      <th></th>\n",
       "      <th></th>\n",
       "      <th></th>\n",
       "      <th></th>\n",
       "      <th></th>\n",
       "      <th></th>\n",
       "      <th></th>\n",
       "      <th></th>\n",
       "      <th></th>\n",
       "    </tr>\n",
       "  </thead>\n",
       "  <tbody>\n",
       "    <tr>\n",
       "      <th>2025-02-27 23:00:00</th>\n",
       "      <td>84858.26</td>\n",
       "      <td>84337.62</td>\n",
       "      <td>84636.47</td>\n",
       "      <td>1102.55</td>\n",
       "      <td>93244758.94</td>\n",
       "      <td>84657.34</td>\n",
       "      <td>1</td>\n",
       "      <td>85309.2030</td>\n",
       "      <td>44.921644</td>\n",
       "      <td>-453.892146</td>\n",
       "      <td>-384.089907</td>\n",
       "      <td>84636.47</td>\n",
       "      <td>84299.28</td>\n",
       "    </tr>\n",
       "    <tr>\n",
       "      <th>2025-02-28 00:00:00</th>\n",
       "      <td>84822.58</td>\n",
       "      <td>84159.05</td>\n",
       "      <td>84657.34</td>\n",
       "      <td>984.01</td>\n",
       "      <td>83145894.23</td>\n",
       "      <td>84200.67</td>\n",
       "      <td>1</td>\n",
       "      <td>85264.9565</td>\n",
       "      <td>41.352537</td>\n",
       "      <td>-461.131373</td>\n",
       "      <td>-399.498200</td>\n",
       "      <td>84657.34</td>\n",
       "      <td>84636.47</td>\n",
       "    </tr>\n",
       "  </tbody>\n",
       "</table>\n",
       "</div>"
      ],
      "text/plain": [
       "                         high       low      open  volumefrom     volumeto  \\\n",
       "time                                                                         \n",
       "2025-02-27 23:00:00  84858.26  84337.62  84636.47     1102.55  93244758.94   \n",
       "2025-02-28 00:00:00  84822.58  84159.05  84657.34      984.01  83145894.23   \n",
       "\n",
       "                        close  conversionType        MA20        RSI  \\\n",
       "time                                                                   \n",
       "2025-02-27 23:00:00  84657.34               1  85309.2030  44.921644   \n",
       "2025-02-28 00:00:00  84200.67               1  85264.9565  41.352537   \n",
       "\n",
       "                           MACD  MACD_signal     Lag_1     Lag_2  \n",
       "time                                                              \n",
       "2025-02-27 23:00:00 -453.892146  -384.089907  84636.47  84299.28  \n",
       "2025-02-28 00:00:00 -461.131373  -399.498200  84657.34  84636.47  "
      ]
     },
     "execution_count": 16,
     "metadata": {},
     "output_type": "execute_result"
    }
   ],
   "source": [
    "df.head(2)"
   ]
  },
  {
   "cell_type": "markdown",
   "id": "f21c0c7a-c023-4385-94cd-43cb3d0d8977",
   "metadata": {
    "jp-MarkdownHeadingCollapsed": true
   },
   "source": [
    "#### Handle Datetime feature"
   ]
  },
  {
   "cell_type": "code",
   "execution_count": 17,
   "id": "46895aa5-218a-4e09-9c1b-382f62a578a7",
   "metadata": {},
   "outputs": [],
   "source": [
    "#extract datetime features\n",
    "df['day'] = df.index.day\n",
    "df['year'] = df.index.year\n",
    "df['month'] = df.index.month\n",
    "df['day_name'] = df.index.day_name()"
   ]
  },
  {
   "cell_type": "code",
   "execution_count": 18,
   "id": "33aaa551-b99d-47c2-8b63-c398f2ed1b16",
   "metadata": {},
   "outputs": [
    {
     "data": {
      "text/html": [
       "<div>\n",
       "<style scoped>\n",
       "    .dataframe tbody tr th:only-of-type {\n",
       "        vertical-align: middle;\n",
       "    }\n",
       "\n",
       "    .dataframe tbody tr th {\n",
       "        vertical-align: top;\n",
       "    }\n",
       "\n",
       "    .dataframe thead th {\n",
       "        text-align: right;\n",
       "    }\n",
       "</style>\n",
       "<table border=\"1\" class=\"dataframe\">\n",
       "  <thead>\n",
       "    <tr style=\"text-align: right;\">\n",
       "      <th></th>\n",
       "      <th>high</th>\n",
       "      <th>low</th>\n",
       "      <th>open</th>\n",
       "      <th>volumefrom</th>\n",
       "      <th>volumeto</th>\n",
       "      <th>close</th>\n",
       "      <th>conversionType</th>\n",
       "      <th>MA20</th>\n",
       "      <th>RSI</th>\n",
       "      <th>MACD</th>\n",
       "      <th>MACD_signal</th>\n",
       "      <th>Lag_1</th>\n",
       "      <th>Lag_2</th>\n",
       "      <th>day</th>\n",
       "      <th>year</th>\n",
       "      <th>month</th>\n",
       "      <th>day_name</th>\n",
       "    </tr>\n",
       "    <tr>\n",
       "      <th>time</th>\n",
       "      <th></th>\n",
       "      <th></th>\n",
       "      <th></th>\n",
       "      <th></th>\n",
       "      <th></th>\n",
       "      <th></th>\n",
       "      <th></th>\n",
       "      <th></th>\n",
       "      <th></th>\n",
       "      <th></th>\n",
       "      <th></th>\n",
       "      <th></th>\n",
       "      <th></th>\n",
       "      <th></th>\n",
       "      <th></th>\n",
       "      <th></th>\n",
       "      <th></th>\n",
       "    </tr>\n",
       "  </thead>\n",
       "  <tbody>\n",
       "    <tr>\n",
       "      <th>2025-02-27 23:00:00</th>\n",
       "      <td>84858.26</td>\n",
       "      <td>84337.62</td>\n",
       "      <td>84636.47</td>\n",
       "      <td>1102.55</td>\n",
       "      <td>9.324476e+07</td>\n",
       "      <td>84657.34</td>\n",
       "      <td>1</td>\n",
       "      <td>85309.2030</td>\n",
       "      <td>44.921644</td>\n",
       "      <td>-453.892146</td>\n",
       "      <td>-384.089907</td>\n",
       "      <td>84636.47</td>\n",
       "      <td>84299.28</td>\n",
       "      <td>27</td>\n",
       "      <td>2025</td>\n",
       "      <td>2</td>\n",
       "      <td>Thursday</td>\n",
       "    </tr>\n",
       "    <tr>\n",
       "      <th>2025-02-28 00:00:00</th>\n",
       "      <td>84822.58</td>\n",
       "      <td>84159.05</td>\n",
       "      <td>84657.34</td>\n",
       "      <td>984.01</td>\n",
       "      <td>8.314589e+07</td>\n",
       "      <td>84200.67</td>\n",
       "      <td>1</td>\n",
       "      <td>85264.9565</td>\n",
       "      <td>41.352537</td>\n",
       "      <td>-461.131373</td>\n",
       "      <td>-399.498200</td>\n",
       "      <td>84657.34</td>\n",
       "      <td>84636.47</td>\n",
       "      <td>28</td>\n",
       "      <td>2025</td>\n",
       "      <td>2</td>\n",
       "      <td>Friday</td>\n",
       "    </tr>\n",
       "    <tr>\n",
       "      <th>2025-02-28 01:00:00</th>\n",
       "      <td>84330.96</td>\n",
       "      <td>81131.57</td>\n",
       "      <td>84200.67</td>\n",
       "      <td>6654.60</td>\n",
       "      <td>5.480585e+08</td>\n",
       "      <td>81614.91</td>\n",
       "      <td>1</td>\n",
       "      <td>85054.5130</td>\n",
       "      <td>27.856612</td>\n",
       "      <td>-667.819526</td>\n",
       "      <td>-453.162465</td>\n",
       "      <td>84200.67</td>\n",
       "      <td>84657.34</td>\n",
       "      <td>28</td>\n",
       "      <td>2025</td>\n",
       "      <td>2</td>\n",
       "      <td>Friday</td>\n",
       "    </tr>\n",
       "    <tr>\n",
       "      <th>2025-02-28 02:00:00</th>\n",
       "      <td>82815.88</td>\n",
       "      <td>79532.20</td>\n",
       "      <td>81614.91</td>\n",
       "      <td>9936.50</td>\n",
       "      <td>8.026110e+08</td>\n",
       "      <td>80759.62</td>\n",
       "      <td>1</td>\n",
       "      <td>84782.1905</td>\n",
       "      <td>24.955427</td>\n",
       "      <td>-890.372472</td>\n",
       "      <td>-540.604467</td>\n",
       "      <td>81614.91</td>\n",
       "      <td>84200.67</td>\n",
       "      <td>28</td>\n",
       "      <td>2025</td>\n",
       "      <td>2</td>\n",
       "      <td>Friday</td>\n",
       "    </tr>\n",
       "    <tr>\n",
       "      <th>2025-02-28 03:00:00</th>\n",
       "      <td>81495.86</td>\n",
       "      <td>80192.01</td>\n",
       "      <td>80759.62</td>\n",
       "      <td>4598.99</td>\n",
       "      <td>3.718406e+08</td>\n",
       "      <td>80375.99</td>\n",
       "      <td>1</td>\n",
       "      <td>84489.6555</td>\n",
       "      <td>23.760120</td>\n",
       "      <td>-1085.193584</td>\n",
       "      <td>-649.522290</td>\n",
       "      <td>80759.62</td>\n",
       "      <td>81614.91</td>\n",
       "      <td>28</td>\n",
       "      <td>2025</td>\n",
       "      <td>2</td>\n",
       "      <td>Friday</td>\n",
       "    </tr>\n",
       "  </tbody>\n",
       "</table>\n",
       "</div>"
      ],
      "text/plain": [
       "                         high       low      open  volumefrom      volumeto  \\\n",
       "time                                                                          \n",
       "2025-02-27 23:00:00  84858.26  84337.62  84636.47     1102.55  9.324476e+07   \n",
       "2025-02-28 00:00:00  84822.58  84159.05  84657.34      984.01  8.314589e+07   \n",
       "2025-02-28 01:00:00  84330.96  81131.57  84200.67     6654.60  5.480585e+08   \n",
       "2025-02-28 02:00:00  82815.88  79532.20  81614.91     9936.50  8.026110e+08   \n",
       "2025-02-28 03:00:00  81495.86  80192.01  80759.62     4598.99  3.718406e+08   \n",
       "\n",
       "                        close  conversionType        MA20        RSI  \\\n",
       "time                                                                   \n",
       "2025-02-27 23:00:00  84657.34               1  85309.2030  44.921644   \n",
       "2025-02-28 00:00:00  84200.67               1  85264.9565  41.352537   \n",
       "2025-02-28 01:00:00  81614.91               1  85054.5130  27.856612   \n",
       "2025-02-28 02:00:00  80759.62               1  84782.1905  24.955427   \n",
       "2025-02-28 03:00:00  80375.99               1  84489.6555  23.760120   \n",
       "\n",
       "                            MACD  MACD_signal     Lag_1     Lag_2  day  year  \\\n",
       "time                                                                           \n",
       "2025-02-27 23:00:00  -453.892146  -384.089907  84636.47  84299.28   27  2025   \n",
       "2025-02-28 00:00:00  -461.131373  -399.498200  84657.34  84636.47   28  2025   \n",
       "2025-02-28 01:00:00  -667.819526  -453.162465  84200.67  84657.34   28  2025   \n",
       "2025-02-28 02:00:00  -890.372472  -540.604467  81614.91  84200.67   28  2025   \n",
       "2025-02-28 03:00:00 -1085.193584  -649.522290  80759.62  81614.91   28  2025   \n",
       "\n",
       "                     month  day_name  \n",
       "time                                  \n",
       "2025-02-27 23:00:00      2  Thursday  \n",
       "2025-02-28 00:00:00      2    Friday  \n",
       "2025-02-28 01:00:00      2    Friday  \n",
       "2025-02-28 02:00:00      2    Friday  \n",
       "2025-02-28 03:00:00      2    Friday  "
      ]
     },
     "execution_count": 18,
     "metadata": {},
     "output_type": "execute_result"
    }
   ],
   "source": [
    "df.head()"
   ]
  },
  {
   "cell_type": "markdown",
   "id": "5f83a668-c2f4-41d1-af4c-67a0a2895964",
   "metadata": {
    "jp-MarkdownHeadingCollapsed": true
   },
   "source": [
    "#### Handle categorical datetime features"
   ]
  },
  {
   "cell_type": "code",
   "execution_count": 19,
   "id": "4f531b86-9e3a-4e3c-b1f5-35ba2125829c",
   "metadata": {},
   "outputs": [],
   "source": [
    "#import encoder library\n",
    "from sklearn.preprocessing import LabelEncoder"
   ]
  },
  {
   "cell_type": "code",
   "execution_count": 20,
   "id": "b182cb73-e254-47a5-b20d-7c022eace197",
   "metadata": {},
   "outputs": [],
   "source": [
    "encoder = LabelEncoder()   #intialize encoder\n",
    "df['day_name'] = encoder.fit_transform(df['day_name'])\n",
    "df['day'] = encoder.fit_transform(df['day'])\n",
    "df['month'] =  encoder.fit_transform(df['month'])"
   ]
  },
  {
   "cell_type": "code",
   "execution_count": 21,
   "id": "19e2e8b0-334e-4a4b-ad22-5b92a9e6e06e",
   "metadata": {},
   "outputs": [
    {
     "data": {
      "text/plain": [
       "array([2025])"
      ]
     },
     "execution_count": 21,
     "metadata": {},
     "output_type": "execute_result"
    }
   ],
   "source": [
    "df['year'].unique()"
   ]
  },
  {
   "cell_type": "code",
   "execution_count": 22,
   "id": "7cc5b74c-877b-4f36-99b0-aee2ec2be1dc",
   "metadata": {},
   "outputs": [],
   "source": [
    "df['year'] = df['year'].map({2025 : 1}).astype('i1')"
   ]
  },
  {
   "cell_type": "code",
   "execution_count": 23,
   "id": "8502330d-2cc3-4127-af24-f39152491f69",
   "metadata": {},
   "outputs": [
    {
     "data": {
      "text/html": [
       "<div>\n",
       "<style scoped>\n",
       "    .dataframe tbody tr th:only-of-type {\n",
       "        vertical-align: middle;\n",
       "    }\n",
       "\n",
       "    .dataframe tbody tr th {\n",
       "        vertical-align: top;\n",
       "    }\n",
       "\n",
       "    .dataframe thead th {\n",
       "        text-align: right;\n",
       "    }\n",
       "</style>\n",
       "<table border=\"1\" class=\"dataframe\">\n",
       "  <thead>\n",
       "    <tr style=\"text-align: right;\">\n",
       "      <th></th>\n",
       "      <th>high</th>\n",
       "      <th>low</th>\n",
       "      <th>open</th>\n",
       "      <th>volumefrom</th>\n",
       "      <th>volumeto</th>\n",
       "      <th>close</th>\n",
       "      <th>conversionType</th>\n",
       "      <th>MA20</th>\n",
       "      <th>RSI</th>\n",
       "      <th>MACD</th>\n",
       "      <th>MACD_signal</th>\n",
       "      <th>Lag_1</th>\n",
       "      <th>Lag_2</th>\n",
       "      <th>day</th>\n",
       "      <th>year</th>\n",
       "      <th>month</th>\n",
       "      <th>day_name</th>\n",
       "    </tr>\n",
       "    <tr>\n",
       "      <th>time</th>\n",
       "      <th></th>\n",
       "      <th></th>\n",
       "      <th></th>\n",
       "      <th></th>\n",
       "      <th></th>\n",
       "      <th></th>\n",
       "      <th></th>\n",
       "      <th></th>\n",
       "      <th></th>\n",
       "      <th></th>\n",
       "      <th></th>\n",
       "      <th></th>\n",
       "      <th></th>\n",
       "      <th></th>\n",
       "      <th></th>\n",
       "      <th></th>\n",
       "      <th></th>\n",
       "    </tr>\n",
       "  </thead>\n",
       "  <tbody>\n",
       "    <tr>\n",
       "      <th>2025-02-27 23:00:00</th>\n",
       "      <td>84858.26</td>\n",
       "      <td>84337.62</td>\n",
       "      <td>84636.47</td>\n",
       "      <td>1102.55</td>\n",
       "      <td>9.324476e+07</td>\n",
       "      <td>84657.34</td>\n",
       "      <td>1</td>\n",
       "      <td>85309.2030</td>\n",
       "      <td>44.921644</td>\n",
       "      <td>-453.892146</td>\n",
       "      <td>-384.089907</td>\n",
       "      <td>84636.47</td>\n",
       "      <td>84299.28</td>\n",
       "      <td>26</td>\n",
       "      <td>1</td>\n",
       "      <td>0</td>\n",
       "      <td>4</td>\n",
       "    </tr>\n",
       "    <tr>\n",
       "      <th>2025-02-28 00:00:00</th>\n",
       "      <td>84822.58</td>\n",
       "      <td>84159.05</td>\n",
       "      <td>84657.34</td>\n",
       "      <td>984.01</td>\n",
       "      <td>8.314589e+07</td>\n",
       "      <td>84200.67</td>\n",
       "      <td>1</td>\n",
       "      <td>85264.9565</td>\n",
       "      <td>41.352537</td>\n",
       "      <td>-461.131373</td>\n",
       "      <td>-399.498200</td>\n",
       "      <td>84657.34</td>\n",
       "      <td>84636.47</td>\n",
       "      <td>27</td>\n",
       "      <td>1</td>\n",
       "      <td>0</td>\n",
       "      <td>0</td>\n",
       "    </tr>\n",
       "    <tr>\n",
       "      <th>2025-02-28 01:00:00</th>\n",
       "      <td>84330.96</td>\n",
       "      <td>81131.57</td>\n",
       "      <td>84200.67</td>\n",
       "      <td>6654.60</td>\n",
       "      <td>5.480585e+08</td>\n",
       "      <td>81614.91</td>\n",
       "      <td>1</td>\n",
       "      <td>85054.5130</td>\n",
       "      <td>27.856612</td>\n",
       "      <td>-667.819526</td>\n",
       "      <td>-453.162465</td>\n",
       "      <td>84200.67</td>\n",
       "      <td>84657.34</td>\n",
       "      <td>27</td>\n",
       "      <td>1</td>\n",
       "      <td>0</td>\n",
       "      <td>0</td>\n",
       "    </tr>\n",
       "    <tr>\n",
       "      <th>2025-02-28 02:00:00</th>\n",
       "      <td>82815.88</td>\n",
       "      <td>79532.20</td>\n",
       "      <td>81614.91</td>\n",
       "      <td>9936.50</td>\n",
       "      <td>8.026110e+08</td>\n",
       "      <td>80759.62</td>\n",
       "      <td>1</td>\n",
       "      <td>84782.1905</td>\n",
       "      <td>24.955427</td>\n",
       "      <td>-890.372472</td>\n",
       "      <td>-540.604467</td>\n",
       "      <td>81614.91</td>\n",
       "      <td>84200.67</td>\n",
       "      <td>27</td>\n",
       "      <td>1</td>\n",
       "      <td>0</td>\n",
       "      <td>0</td>\n",
       "    </tr>\n",
       "    <tr>\n",
       "      <th>2025-02-28 03:00:00</th>\n",
       "      <td>81495.86</td>\n",
       "      <td>80192.01</td>\n",
       "      <td>80759.62</td>\n",
       "      <td>4598.99</td>\n",
       "      <td>3.718406e+08</td>\n",
       "      <td>80375.99</td>\n",
       "      <td>1</td>\n",
       "      <td>84489.6555</td>\n",
       "      <td>23.760120</td>\n",
       "      <td>-1085.193584</td>\n",
       "      <td>-649.522290</td>\n",
       "      <td>80759.62</td>\n",
       "      <td>81614.91</td>\n",
       "      <td>27</td>\n",
       "      <td>1</td>\n",
       "      <td>0</td>\n",
       "      <td>0</td>\n",
       "    </tr>\n",
       "  </tbody>\n",
       "</table>\n",
       "</div>"
      ],
      "text/plain": [
       "                         high       low      open  volumefrom      volumeto  \\\n",
       "time                                                                          \n",
       "2025-02-27 23:00:00  84858.26  84337.62  84636.47     1102.55  9.324476e+07   \n",
       "2025-02-28 00:00:00  84822.58  84159.05  84657.34      984.01  8.314589e+07   \n",
       "2025-02-28 01:00:00  84330.96  81131.57  84200.67     6654.60  5.480585e+08   \n",
       "2025-02-28 02:00:00  82815.88  79532.20  81614.91     9936.50  8.026110e+08   \n",
       "2025-02-28 03:00:00  81495.86  80192.01  80759.62     4598.99  3.718406e+08   \n",
       "\n",
       "                        close  conversionType        MA20        RSI  \\\n",
       "time                                                                   \n",
       "2025-02-27 23:00:00  84657.34               1  85309.2030  44.921644   \n",
       "2025-02-28 00:00:00  84200.67               1  85264.9565  41.352537   \n",
       "2025-02-28 01:00:00  81614.91               1  85054.5130  27.856612   \n",
       "2025-02-28 02:00:00  80759.62               1  84782.1905  24.955427   \n",
       "2025-02-28 03:00:00  80375.99               1  84489.6555  23.760120   \n",
       "\n",
       "                            MACD  MACD_signal     Lag_1     Lag_2  day  year  \\\n",
       "time                                                                           \n",
       "2025-02-27 23:00:00  -453.892146  -384.089907  84636.47  84299.28   26     1   \n",
       "2025-02-28 00:00:00  -461.131373  -399.498200  84657.34  84636.47   27     1   \n",
       "2025-02-28 01:00:00  -667.819526  -453.162465  84200.67  84657.34   27     1   \n",
       "2025-02-28 02:00:00  -890.372472  -540.604467  81614.91  84200.67   27     1   \n",
       "2025-02-28 03:00:00 -1085.193584  -649.522290  80759.62  81614.91   27     1   \n",
       "\n",
       "                     month  day_name  \n",
       "time                                  \n",
       "2025-02-27 23:00:00      0         4  \n",
       "2025-02-28 00:00:00      0         0  \n",
       "2025-02-28 01:00:00      0         0  \n",
       "2025-02-28 02:00:00      0         0  \n",
       "2025-02-28 03:00:00      0         0  "
      ]
     },
     "execution_count": 23,
     "metadata": {},
     "output_type": "execute_result"
    }
   ],
   "source": [
    "df.head(5)"
   ]
  },
  {
   "cell_type": "markdown",
   "id": "41d27e57-2305-4b01-b436-f74f0f4b42d8",
   "metadata": {
    "jp-MarkdownHeadingCollapsed": true
   },
   "source": [
    "#### Handle Continuous Data"
   ]
  },
  {
   "cell_type": "code",
   "execution_count": 24,
   "id": "9e3702cc-b221-4903-a79b-8dcb7368216f",
   "metadata": {},
   "outputs": [
    {
     "data": {
      "text/plain": [
       "Index(['high', 'low', 'open', 'volumefrom', 'volumeto', 'close',\n",
       "       'conversionType', 'MA20', 'RSI', 'MACD', 'MACD_signal', 'Lag_1',\n",
       "       'Lag_2', 'day', 'year', 'month', 'day_name'],\n",
       "      dtype='object')"
      ]
     },
     "execution_count": 24,
     "metadata": {},
     "output_type": "execute_result"
    }
   ],
   "source": [
    "df.columns"
   ]
  },
  {
   "cell_type": "code",
   "execution_count": 25,
   "id": "1d57e447-1817-4d44-b353-59705482b67d",
   "metadata": {},
   "outputs": [],
   "source": [
    "from sklearn.preprocessing import StandardScaler"
   ]
  },
  {
   "cell_type": "code",
   "execution_count": 26,
   "id": "8f4d4a6f-5faf-493d-8125-a2dc4b14bcd3",
   "metadata": {},
   "outputs": [],
   "source": [
    "scaler = StandardScaler()"
   ]
  },
  {
   "cell_type": "code",
   "execution_count": 27,
   "id": "5e7ed118-f746-4a04-8bb1-7e28d7f29d0b",
   "metadata": {},
   "outputs": [],
   "source": [
    "df[['high', 'low', 'open', 'volumefrom', 'volumeto',\n",
    "        'MA20', 'RSI', 'MACD', 'MACD_signal']] = scaler.fit_transform(df[['high', 'low', 'open', 'volumefrom', 'volumeto',\n",
    "        'MA20', 'RSI', 'MACD', 'MACD_signal']])"
   ]
  },
  {
   "cell_type": "code",
   "execution_count": 28,
   "id": "e3370391-0571-4f84-8062-fe6e94d8205f",
   "metadata": {},
   "outputs": [
    {
     "data": {
      "text/html": [
       "<div>\n",
       "<style scoped>\n",
       "    .dataframe tbody tr th:only-of-type {\n",
       "        vertical-align: middle;\n",
       "    }\n",
       "\n",
       "    .dataframe tbody tr th {\n",
       "        vertical-align: top;\n",
       "    }\n",
       "\n",
       "    .dataframe thead th {\n",
       "        text-align: right;\n",
       "    }\n",
       "</style>\n",
       "<table border=\"1\" class=\"dataframe\">\n",
       "  <thead>\n",
       "    <tr style=\"text-align: right;\">\n",
       "      <th></th>\n",
       "      <th>high</th>\n",
       "      <th>low</th>\n",
       "      <th>open</th>\n",
       "      <th>volumefrom</th>\n",
       "      <th>volumeto</th>\n",
       "      <th>close</th>\n",
       "      <th>conversionType</th>\n",
       "      <th>MA20</th>\n",
       "      <th>RSI</th>\n",
       "      <th>MACD</th>\n",
       "      <th>MACD_signal</th>\n",
       "      <th>Lag_1</th>\n",
       "      <th>Lag_2</th>\n",
       "      <th>day</th>\n",
       "      <th>year</th>\n",
       "      <th>month</th>\n",
       "      <th>day_name</th>\n",
       "    </tr>\n",
       "    <tr>\n",
       "      <th>time</th>\n",
       "      <th></th>\n",
       "      <th></th>\n",
       "      <th></th>\n",
       "      <th></th>\n",
       "      <th></th>\n",
       "      <th></th>\n",
       "      <th></th>\n",
       "      <th></th>\n",
       "      <th></th>\n",
       "      <th></th>\n",
       "      <th></th>\n",
       "      <th></th>\n",
       "      <th></th>\n",
       "      <th></th>\n",
       "      <th></th>\n",
       "      <th></th>\n",
       "      <th></th>\n",
       "    </tr>\n",
       "  </thead>\n",
       "  <tbody>\n",
       "    <tr>\n",
       "      <th>2025-02-27 23:00:00</th>\n",
       "      <td>-0.616647</td>\n",
       "      <td>-0.596678</td>\n",
       "      <td>-0.600739</td>\n",
       "      <td>0.041522</td>\n",
       "      <td>0.009376</td>\n",
       "      <td>84657.34</td>\n",
       "      <td>1</td>\n",
       "      <td>-0.510539</td>\n",
       "      <td>-0.589443</td>\n",
       "      <td>-1.008579</td>\n",
       "      <td>-0.940813</td>\n",
       "      <td>84636.47</td>\n",
       "      <td>84299.28</td>\n",
       "      <td>26</td>\n",
       "      <td>1</td>\n",
       "      <td>0</td>\n",
       "      <td>4</td>\n",
       "    </tr>\n",
       "    <tr>\n",
       "      <th>2025-02-28 00:00:00</th>\n",
       "      <td>-0.621269</td>\n",
       "      <td>-0.619614</td>\n",
       "      <td>-0.598045</td>\n",
       "      <td>-0.052970</td>\n",
       "      <td>-0.084771</td>\n",
       "      <td>84200.67</td>\n",
       "      <td>1</td>\n",
       "      <td>-0.516342</td>\n",
       "      <td>-0.897068</td>\n",
       "      <td>-1.022514</td>\n",
       "      <td>-0.972827</td>\n",
       "      <td>84657.34</td>\n",
       "      <td>84636.47</td>\n",
       "      <td>27</td>\n",
       "      <td>1</td>\n",
       "      <td>0</td>\n",
       "      <td>0</td>\n",
       "    </tr>\n",
       "  </tbody>\n",
       "</table>\n",
       "</div>"
      ],
      "text/plain": [
       "                         high       low      open  volumefrom  volumeto  \\\n",
       "time                                                                      \n",
       "2025-02-27 23:00:00 -0.616647 -0.596678 -0.600739    0.041522  0.009376   \n",
       "2025-02-28 00:00:00 -0.621269 -0.619614 -0.598045   -0.052970 -0.084771   \n",
       "\n",
       "                        close  conversionType      MA20       RSI      MACD  \\\n",
       "time                                                                          \n",
       "2025-02-27 23:00:00  84657.34               1 -0.510539 -0.589443 -1.008579   \n",
       "2025-02-28 00:00:00  84200.67               1 -0.516342 -0.897068 -1.022514   \n",
       "\n",
       "                     MACD_signal     Lag_1     Lag_2  day  year  month  \\\n",
       "time                                                                     \n",
       "2025-02-27 23:00:00    -0.940813  84636.47  84299.28   26     1      0   \n",
       "2025-02-28 00:00:00    -0.972827  84657.34  84636.47   27     1      0   \n",
       "\n",
       "                     day_name  \n",
       "time                           \n",
       "2025-02-27 23:00:00         4  \n",
       "2025-02-28 00:00:00         0  "
      ]
     },
     "execution_count": 28,
     "metadata": {},
     "output_type": "execute_result"
    }
   ],
   "source": [
    "df.head(2)"
   ]
  },
  {
   "cell_type": "markdown",
   "id": "1488ff7c-5aed-4e05-b87c-ae789cc2c9f2",
   "metadata": {},
   "source": [
    "#### Define target and predictors"
   ]
  },
  {
   "cell_type": "code",
   "execution_count": 29,
   "id": "c52d1dc7-d304-40c0-bd00-8b59839d85a9",
   "metadata": {},
   "outputs": [],
   "source": [
    "import numpy as np\n",
    "df['day_sin'] = np.sin(2 * np.pi * df['day_name'] / 7)\n",
    "df['day_cos'] = np.cos(2 * np.pi * df['day_name'] / 7)"
   ]
  },
  {
   "cell_type": "code",
   "execution_count": 31,
   "id": "47fc7869-7e6d-49e7-a3ca-cb67fc37f50d",
   "metadata": {},
   "outputs": [],
   "source": [
    "x = df.drop(['close', 'day_name'], axis = 1)\n",
    "y = df['close'].shift(-1)   #This is to make sure that this hours data is predicted by the info from the past hourx"
   ]
  },
  {
   "cell_type": "code",
   "execution_count": 32,
   "id": "1ee2d703-c1cf-4e5a-9238-4cdccf729439",
   "metadata": {},
   "outputs": [
    {
     "data": {
      "text/plain": [
       "((1968, 17), (1968,))"
      ]
     },
     "execution_count": 32,
     "metadata": {},
     "output_type": "execute_result"
    }
   ],
   "source": [
    "x.shape, y.shape   #After the shift, the both data remains the same length as the last instance would be of type 'Nan'"
   ]
  },
  {
   "cell_type": "markdown",
   "id": "9de866be-1150-438b-b6c7-57f0995b8d34",
   "metadata": {},
   "source": [
    "#### Split data into train and test"
   ]
  },
  {
   "cell_type": "code",
   "execution_count": null,
   "id": "0e9f7fd6-9089-4479-a344-1eb490aeef15",
   "metadata": {},
   "outputs": [],
   "source": [
    "from sklearn.model_selection import train_test_split"
   ]
  },
  {
   "cell_type": "code",
   "execution_count": null,
   "id": "befcc31a-cf68-4254-85b5-d60575200e37",
   "metadata": {},
   "outputs": [],
   "source": [
    "x_train, x_test, y_train, y_test = train_test_split(x,y, shuffle=False, random_state = 69, train_size = 0.8)"
   ]
  },
  {
   "cell_type": "markdown",
   "id": "10749179-80a2-4bc5-a417-4a7d0f387e2f",
   "metadata": {},
   "source": [
    "## Build Model"
   ]
  },
  {
   "cell_type": "code",
   "execution_count": null,
   "id": "ce7f6c80-9fbd-40d4-ab28-3b6542710925",
   "metadata": {
    "jp-MarkdownHeadingCollapsed": true
   },
   "outputs": [],
   "source": [
    "#import model and dependencies\n",
    "from sklearn.ensemble import RandomForestRegressor\n",
    "from sklearn.metrics import mean_squared_error\n",
    "import matplotlib.pyplot as plt"
   ]
  },
  {
   "cell_type": "code",
   "execution_count": null,
   "id": "66a73634-aa56-4dd3-921f-958fc316ddf6",
   "metadata": {},
   "outputs": [],
   "source": [
    "#intialize model and define parameters\n",
    "modelRF = RandomForestRegressor(n_estimators=100,\n",
    "    criterion='squared_error',\n",
    "    max_depth=None,\n",
    "    min_samples_split=2,\n",
    "    min_samples_leaf=5,\n",
    "    min_weight_fraction_leaf=0.0,\n",
    "    max_features=1.0,\n",
    "    max_leaf_nodes=None,\n",
    "    min_impurity_decrease=0.0,\n",
    "    bootstrap=True,\n",
    "    oob_score=False,\n",
    "    n_jobs=30,\n",
    "    random_state=None,\n",
    "    verbose=0,\n",
    "    warm_start=False,\n",
    "    ccp_alpha=0.0,\n",
    "    max_samples=None,)"
   ]
  },
  {
   "cell_type": "markdown",
   "id": "3d3f70d1-278b-4c06-b051-0e1b2cce4e9a",
   "metadata": {},
   "source": [
    "#### Fit model"
   ]
  },
  {
   "cell_type": "code",
   "execution_count": null,
   "id": "b8ded287-b484-451b-8ed1-f17d1f32d3f8",
   "metadata": {},
   "outputs": [],
   "source": [
    "len(x)"
   ]
  },
  {
   "cell_type": "code",
   "execution_count": null,
   "id": "78a0794d-c096-4a4d-9cdf-7e732971fc71",
   "metadata": {},
   "outputs": [],
   "source": [
    "modelRF.fit(x_train,y_train)"
   ]
  },
  {
   "cell_type": "markdown",
   "id": "ed55f920-5b00-4c2e-b8d4-b2c4f73ab43c",
   "metadata": {},
   "source": [
    "#### Evaluate model"
   ]
  },
  {
   "cell_type": "code",
   "execution_count": null,
   "id": "4f9ce190-b487-414d-9533-960c08746125",
   "metadata": {},
   "outputs": [],
   "source": [
    "modelRF.score(x_train,y_train)"
   ]
  },
  {
   "cell_type": "code",
   "execution_count": null,
   "id": "428e87c9-d052-4bee-b9c1-cbe89a048add",
   "metadata": {},
   "outputs": [],
   "source": [
    "print(\"model performance on train\", modelRF.score(x_train, y_train),\n",
    "      f\"\\nmodel performance on unseen data\",  modelRF.score(x_test[:393], y_test[:393]))"
   ]
  },
  {
   "cell_type": "markdown",
   "id": "412a3c02-7cae-4654-9022-d3378a62578d",
   "metadata": {},
   "source": [
    "#### Use a simpler model"
   ]
  },
  {
   "cell_type": "code",
   "execution_count": null,
   "id": "ea327af9-319b-48e5-9079-bb76733e2e1d",
   "metadata": {},
   "outputs": [],
   "source": [
    "from sklearn.linear_model import LinearRegression"
   ]
  },
  {
   "cell_type": "code",
   "execution_count": null,
   "id": "a2974c32-4fbb-451c-9fe9-ca21da411955",
   "metadata": {},
   "outputs": [],
   "source": [
    "modelLR = LinearRegression(fit_intercept=True,\n",
    "    n_jobs=50,\n",
    "    positive=False,)"
   ]
  },
  {
   "cell_type": "code",
   "execution_count": null,
   "id": "9f3bfdea-fd78-4e0d-a5ef-3f5f55cff904",
   "metadata": {},
   "outputs": [],
   "source": [
    "modelLR.fit(x_train, y_train)"
   ]
  },
  {
   "cell_type": "code",
   "execution_count": null,
   "id": "30af3523-6df8-4033-bc39-85925bf794ef",
   "metadata": {},
   "outputs": [],
   "source": [
    "len(x_test)"
   ]
  },
  {
   "cell_type": "code",
   "execution_count": null,
   "id": "29beb8af-0682-4b4c-91fc-34112952394f",
   "metadata": {},
   "outputs": [],
   "source": [
    "print(\"model performance on train\", modelLR.score(x_train, y_train),\n",
    "      f\"\\nmodel performance on unseen data\",  modelLR.score(x_test[:393], y_test[:393]))"
   ]
  },
  {
   "cell_type": "code",
   "execution_count": null,
   "id": "5f01b45f-b4b0-470f-b0a0-5eb68875b941",
   "metadata": {},
   "outputs": [],
   "source": [
    "modelLR.predict(x_test[391:392])"
   ]
  },
  {
   "cell_type": "code",
   "execution_count": null,
   "id": "ff233c52-9fca-40d3-a13b-aec4dacd4f20",
   "metadata": {},
   "outputs": [],
   "source": [
    "y_test[391:392]"
   ]
  }
 ],
 "metadata": {
  "kernelspec": {
   "display_name": "Python 3 (ipykernel)",
   "language": "python",
   "name": "python3"
  },
  "language_info": {
   "codemirror_mode": {
    "name": "ipython",
    "version": 3
   },
   "file_extension": ".py",
   "mimetype": "text/x-python",
   "name": "python",
   "nbconvert_exporter": "python",
   "pygments_lexer": "ipython3",
   "version": "3.11.7"
  },
  "widgets": {
   "application/vnd.jupyter.widget-state+json": {
    "state": {},
    "version_major": 2,
    "version_minor": 0
   }
  }
 },
 "nbformat": 4,
 "nbformat_minor": 5
}
