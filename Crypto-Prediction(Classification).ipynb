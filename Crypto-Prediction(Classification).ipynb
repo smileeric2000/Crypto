{
 "cells": [
  {
   "cell_type": "markdown",
   "id": "0221f726-92c9-4641-a06f-e44a117bd0e0",
   "metadata": {},
   "source": [
    "## Crypto Purchase Prediction Model"
   ]
  },
  {
   "cell_type": "markdown",
   "id": "06dc959d-c923-46e9-9b97-ba586b7c01ef",
   "metadata": {},
   "source": [
    "#### Load and view data"
   ]
  },
  {
   "cell_type": "code",
   "execution_count": 1,
   "id": "bb002059-7ba8-4bd5-96e0-a8768c24ec58",
   "metadata": {},
   "outputs": [],
   "source": [
    "import pandas as pd\n",
    "import numpy as np"
   ]
  },
  {
   "cell_type": "code",
   "execution_count": 2,
   "id": "49ceeb3d-d68c-4514-a480-36ceeb8cf8ca",
   "metadata": {},
   "outputs": [],
   "source": [
    "data = pd.read_csv('crypto_hourly_data.csv')"
   ]
  },
  {
   "cell_type": "code",
   "execution_count": 3,
   "id": "45170ff6-3f52-4235-8a37-7c2b944a27c4",
   "metadata": {
    "scrolled": true
   },
   "outputs": [
    {
     "data": {
      "text/html": [
       "<div>\n",
       "<style scoped>\n",
       "    .dataframe tbody tr th:only-of-type {\n",
       "        vertical-align: middle;\n",
       "    }\n",
       "\n",
       "    .dataframe tbody tr th {\n",
       "        vertical-align: top;\n",
       "    }\n",
       "\n",
       "    .dataframe thead th {\n",
       "        text-align: right;\n",
       "    }\n",
       "</style>\n",
       "<table border=\"1\" class=\"dataframe\">\n",
       "  <thead>\n",
       "    <tr style=\"text-align: right;\">\n",
       "      <th></th>\n",
       "      <th>high</th>\n",
       "      <th>low</th>\n",
       "      <th>open</th>\n",
       "      <th>volumefrom</th>\n",
       "      <th>volumeto</th>\n",
       "      <th>close</th>\n",
       "      <th>conversionType</th>\n",
       "      <th>MA20</th>\n",
       "      <th>RSI</th>\n",
       "      <th>MACD</th>\n",
       "      <th>MACD_signal</th>\n",
       "      <th>Lag_1</th>\n",
       "      <th>Lag_2</th>\n",
       "      <th>day</th>\n",
       "      <th>year</th>\n",
       "      <th>month</th>\n",
       "      <th>day_name</th>\n",
       "    </tr>\n",
       "  </thead>\n",
       "  <tbody>\n",
       "    <tr>\n",
       "      <th>0</th>\n",
       "      <td>86211.80</td>\n",
       "      <td>85950.35</td>\n",
       "      <td>85989.18</td>\n",
       "      <td>268.89</td>\n",
       "      <td>2.314940e+07</td>\n",
       "      <td>86098.05</td>\n",
       "      <td>1</td>\n",
       "      <td>85838.8950</td>\n",
       "      <td>57.357045</td>\n",
       "      <td>198.505169</td>\n",
       "      <td>214.747207</td>\n",
       "      <td>85989.18</td>\n",
       "      <td>85897.78</td>\n",
       "      <td>2</td>\n",
       "      <td>2025</td>\n",
       "      <td>3</td>\n",
       "      <td>Sunday</td>\n",
       "    </tr>\n",
       "    <tr>\n",
       "      <th>1</th>\n",
       "      <td>86100.60</td>\n",
       "      <td>85739.49</td>\n",
       "      <td>86098.05</td>\n",
       "      <td>325.20</td>\n",
       "      <td>2.793623e+07</td>\n",
       "      <td>85980.07</td>\n",
       "      <td>1</td>\n",
       "      <td>85875.9560</td>\n",
       "      <td>54.837910</td>\n",
       "      <td>187.794138</td>\n",
       "      <td>209.356593</td>\n",
       "      <td>86098.05</td>\n",
       "      <td>85989.18</td>\n",
       "      <td>2</td>\n",
       "      <td>2025</td>\n",
       "      <td>3</td>\n",
       "      <td>Sunday</td>\n",
       "    </tr>\n",
       "    <tr>\n",
       "      <th>2</th>\n",
       "      <td>85983.89</td>\n",
       "      <td>85483.91</td>\n",
       "      <td>85980.07</td>\n",
       "      <td>586.12</td>\n",
       "      <td>5.028535e+07</td>\n",
       "      <td>85702.44</td>\n",
       "      <td>1</td>\n",
       "      <td>85901.4430</td>\n",
       "      <td>49.345592</td>\n",
       "      <td>155.115077</td>\n",
       "      <td>198.508290</td>\n",
       "      <td>85980.07</td>\n",
       "      <td>86098.05</td>\n",
       "      <td>2</td>\n",
       "      <td>2025</td>\n",
       "      <td>3</td>\n",
       "      <td>Sunday</td>\n",
       "    </tr>\n",
       "    <tr>\n",
       "      <th>3</th>\n",
       "      <td>85892.38</td>\n",
       "      <td>85047.82</td>\n",
       "      <td>85702.44</td>\n",
       "      <td>1372.12</td>\n",
       "      <td>1.170603e+08</td>\n",
       "      <td>85104.24</td>\n",
       "      <td>1</td>\n",
       "      <td>85891.7015</td>\n",
       "      <td>40.040182</td>\n",
       "      <td>80.024474</td>\n",
       "      <td>174.811527</td>\n",
       "      <td>85702.44</td>\n",
       "      <td>85980.07</td>\n",
       "      <td>2</td>\n",
       "      <td>2025</td>\n",
       "      <td>3</td>\n",
       "      <td>Sunday</td>\n",
       "    </tr>\n",
       "    <tr>\n",
       "      <th>4</th>\n",
       "      <td>88662.04</td>\n",
       "      <td>85067.08</td>\n",
       "      <td>85104.24</td>\n",
       "      <td>6871.29</td>\n",
       "      <td>6.000891e+08</td>\n",
       "      <td>87433.23</td>\n",
       "      <td>1</td>\n",
       "      <td>85990.3700</td>\n",
       "      <td>66.515353</td>\n",
       "      <td>206.069220</td>\n",
       "      <td>181.063066</td>\n",
       "      <td>85104.24</td>\n",
       "      <td>85702.44</td>\n",
       "      <td>2</td>\n",
       "      <td>2025</td>\n",
       "      <td>3</td>\n",
       "      <td>Sunday</td>\n",
       "    </tr>\n",
       "  </tbody>\n",
       "</table>\n",
       "</div>"
      ],
      "text/plain": [
       "       high       low      open  volumefrom      volumeto     close  \\\n",
       "0  86211.80  85950.35  85989.18      268.89  2.314940e+07  86098.05   \n",
       "1  86100.60  85739.49  86098.05      325.20  2.793623e+07  85980.07   \n",
       "2  85983.89  85483.91  85980.07      586.12  5.028535e+07  85702.44   \n",
       "3  85892.38  85047.82  85702.44     1372.12  1.170603e+08  85104.24   \n",
       "4  88662.04  85067.08  85104.24     6871.29  6.000891e+08  87433.23   \n",
       "\n",
       "   conversionType        MA20        RSI        MACD  MACD_signal     Lag_1  \\\n",
       "0               1  85838.8950  57.357045  198.505169   214.747207  85989.18   \n",
       "1               1  85875.9560  54.837910  187.794138   209.356593  86098.05   \n",
       "2               1  85901.4430  49.345592  155.115077   198.508290  85980.07   \n",
       "3               1  85891.7015  40.040182   80.024474   174.811527  85702.44   \n",
       "4               1  85990.3700  66.515353  206.069220   181.063066  85104.24   \n",
       "\n",
       "      Lag_2  day  year  month day_name  \n",
       "0  85897.78    2  2025      3   Sunday  \n",
       "1  85989.18    2  2025      3   Sunday  \n",
       "2  86098.05    2  2025      3   Sunday  \n",
       "3  85980.07    2  2025      3   Sunday  \n",
       "4  85702.44    2  2025      3   Sunday  "
      ]
     },
     "execution_count": 3,
     "metadata": {},
     "output_type": "execute_result"
    }
   ],
   "source": [
    "data.head()"
   ]
  },
  {
   "cell_type": "code",
   "execution_count": 4,
   "id": "50c48deb-ad0d-479e-a374-cb42c779e6b2",
   "metadata": {},
   "outputs": [],
   "source": [
    "data = data[25:]"
   ]
  },
  {
   "cell_type": "markdown",
   "id": "1018d877-a1c8-459a-8455-037621f40b9f",
   "metadata": {},
   "source": [
    "#### clean data"
   ]
  },
  {
   "cell_type": "code",
   "execution_count": 5,
   "id": "27f237ba-7b51-4da1-9e09-bc69ec5fdb0f",
   "metadata": {},
   "outputs": [
    {
     "data": {
      "text/plain": [
       "high              0\n",
       "low               0\n",
       "open              0\n",
       "volumefrom        0\n",
       "volumeto          0\n",
       "close             0\n",
       "conversionType    0\n",
       "MA20              0\n",
       "RSI               0\n",
       "MACD              0\n",
       "MACD_signal       0\n",
       "Lag_1             0\n",
       "Lag_2             0\n",
       "day               0\n",
       "year              0\n",
       "month             0\n",
       "day_name          0\n",
       "dtype: int64"
      ]
     },
     "execution_count": 5,
     "metadata": {},
     "output_type": "execute_result"
    }
   ],
   "source": [
    "data.isna().sum()"
   ]
  },
  {
   "cell_type": "markdown",
   "id": "ab4abd86-60e6-44d3-b093-66ef67131128",
   "metadata": {},
   "source": [
    "#### Handle Datetime feature"
   ]
  },
  {
   "cell_type": "code",
   "execution_count": 6,
   "id": "621c97b7-e94c-4798-94e4-903ef4835913",
   "metadata": {},
   "outputs": [
    {
     "data": {
      "text/html": [
       "<div>\n",
       "<style scoped>\n",
       "    .dataframe tbody tr th:only-of-type {\n",
       "        vertical-align: middle;\n",
       "    }\n",
       "\n",
       "    .dataframe tbody tr th {\n",
       "        vertical-align: top;\n",
       "    }\n",
       "\n",
       "    .dataframe thead th {\n",
       "        text-align: right;\n",
       "    }\n",
       "</style>\n",
       "<table border=\"1\" class=\"dataframe\">\n",
       "  <thead>\n",
       "    <tr style=\"text-align: right;\">\n",
       "      <th></th>\n",
       "      <th>high</th>\n",
       "      <th>low</th>\n",
       "      <th>open</th>\n",
       "      <th>volumefrom</th>\n",
       "      <th>volumeto</th>\n",
       "      <th>close</th>\n",
       "      <th>conversionType</th>\n",
       "      <th>MA20</th>\n",
       "      <th>RSI</th>\n",
       "      <th>MACD</th>\n",
       "      <th>MACD_signal</th>\n",
       "      <th>Lag_1</th>\n",
       "      <th>Lag_2</th>\n",
       "      <th>day</th>\n",
       "      <th>year</th>\n",
       "      <th>month</th>\n",
       "      <th>day_name</th>\n",
       "    </tr>\n",
       "  </thead>\n",
       "  <tbody>\n",
       "    <tr>\n",
       "      <th>25</th>\n",
       "      <td>93229.03</td>\n",
       "      <td>92654.50</td>\n",
       "      <td>92713.38</td>\n",
       "      <td>1523.68</td>\n",
       "      <td>1.416616e+08</td>\n",
       "      <td>92994.05</td>\n",
       "      <td>1</td>\n",
       "      <td>93078.9935</td>\n",
       "      <td>60.600419</td>\n",
       "      <td>1019.008796</td>\n",
       "      <td>1310.959829</td>\n",
       "      <td>92713.38</td>\n",
       "      <td>92526.89</td>\n",
       "      <td>3</td>\n",
       "      <td>2025</td>\n",
       "      <td>3</td>\n",
       "      <td>Monday</td>\n",
       "    </tr>\n",
       "    <tr>\n",
       "      <th>26</th>\n",
       "      <td>93663.56</td>\n",
       "      <td>92860.40</td>\n",
       "      <td>92994.05</td>\n",
       "      <td>1543.86</td>\n",
       "      <td>1.439753e+08</td>\n",
       "      <td>93571.95</td>\n",
       "      <td>1</td>\n",
       "      <td>93051.0455</td>\n",
       "      <td>63.303437</td>\n",
       "      <td>1034.435412</td>\n",
       "      <td>1255.654946</td>\n",
       "      <td>92994.05</td>\n",
       "      <td>92713.38</td>\n",
       "      <td>3</td>\n",
       "      <td>2025</td>\n",
       "      <td>3</td>\n",
       "      <td>Monday</td>\n",
       "    </tr>\n",
       "    <tr>\n",
       "      <th>27</th>\n",
       "      <td>93708.94</td>\n",
       "      <td>89157.47</td>\n",
       "      <td>93571.95</td>\n",
       "      <td>7951.87</td>\n",
       "      <td>7.273265e+08</td>\n",
       "      <td>89189.29</td>\n",
       "      <td>1</td>\n",
       "      <td>92871.0050</td>\n",
       "      <td>40.571111</td>\n",
       "      <td>685.119451</td>\n",
       "      <td>1141.547847</td>\n",
       "      <td>93571.95</td>\n",
       "      <td>92994.05</td>\n",
       "      <td>3</td>\n",
       "      <td>2025</td>\n",
       "      <td>3</td>\n",
       "      <td>Monday</td>\n",
       "    </tr>\n",
       "    <tr>\n",
       "      <th>28</th>\n",
       "      <td>91252.06</td>\n",
       "      <td>89130.39</td>\n",
       "      <td>89189.29</td>\n",
       "      <td>7440.02</td>\n",
       "      <td>6.715835e+08</td>\n",
       "      <td>89969.60</td>\n",
       "      <td>1</td>\n",
       "      <td>92692.9645</td>\n",
       "      <td>44.399445</td>\n",
       "      <td>465.878178</td>\n",
       "      <td>1006.413913</td>\n",
       "      <td>89189.29</td>\n",
       "      <td>93571.95</td>\n",
       "      <td>3</td>\n",
       "      <td>2025</td>\n",
       "      <td>3</td>\n",
       "      <td>Monday</td>\n",
       "    </tr>\n",
       "    <tr>\n",
       "      <th>29</th>\n",
       "      <td>90674.68</td>\n",
       "      <td>89608.59</td>\n",
       "      <td>89969.60</td>\n",
       "      <td>3148.35</td>\n",
       "      <td>2.836649e+08</td>\n",
       "      <td>90113.31</td>\n",
       "      <td>1</td>\n",
       "      <td>92480.3500</td>\n",
       "      <td>45.100871</td>\n",
       "      <td>300.262842</td>\n",
       "      <td>865.183699</td>\n",
       "      <td>89969.60</td>\n",
       "      <td>89189.29</td>\n",
       "      <td>3</td>\n",
       "      <td>2025</td>\n",
       "      <td>3</td>\n",
       "      <td>Monday</td>\n",
       "    </tr>\n",
       "    <tr>\n",
       "      <th>...</th>\n",
       "      <td>...</td>\n",
       "      <td>...</td>\n",
       "      <td>...</td>\n",
       "      <td>...</td>\n",
       "      <td>...</td>\n",
       "      <td>...</td>\n",
       "      <td>...</td>\n",
       "      <td>...</td>\n",
       "      <td>...</td>\n",
       "      <td>...</td>\n",
       "      <td>...</td>\n",
       "      <td>...</td>\n",
       "      <td>...</td>\n",
       "      <td>...</td>\n",
       "      <td>...</td>\n",
       "      <td>...</td>\n",
       "      <td>...</td>\n",
       "    </tr>\n",
       "    <tr>\n",
       "      <th>1963</th>\n",
       "      <td>110845.91</td>\n",
       "      <td>110398.94</td>\n",
       "      <td>110842.09</td>\n",
       "      <td>547.57</td>\n",
       "      <td>6.052678e+07</td>\n",
       "      <td>110506.93</td>\n",
       "      <td>1</td>\n",
       "      <td>111197.3505</td>\n",
       "      <td>47.114141</td>\n",
       "      <td>264.284964</td>\n",
       "      <td>465.657610</td>\n",
       "      <td>110842.09</td>\n",
       "      <td>110838.42</td>\n",
       "      <td>23</td>\n",
       "      <td>2025</td>\n",
       "      <td>5</td>\n",
       "      <td>Friday</td>\n",
       "    </tr>\n",
       "    <tr>\n",
       "      <th>1964</th>\n",
       "      <td>110841.96</td>\n",
       "      <td>110506.86</td>\n",
       "      <td>110506.93</td>\n",
       "      <td>384.61</td>\n",
       "      <td>4.257316e+07</td>\n",
       "      <td>110718.55</td>\n",
       "      <td>1</td>\n",
       "      <td>111183.4980</td>\n",
       "      <td>49.799819</td>\n",
       "      <td>219.573419</td>\n",
       "      <td>416.440772</td>\n",
       "      <td>110506.93</td>\n",
       "      <td>110842.09</td>\n",
       "      <td>23</td>\n",
       "      <td>2025</td>\n",
       "      <td>5</td>\n",
       "      <td>Friday</td>\n",
       "    </tr>\n",
       "    <tr>\n",
       "      <th>1965</th>\n",
       "      <td>111007.46</td>\n",
       "      <td>110714.46</td>\n",
       "      <td>110718.55</td>\n",
       "      <td>180.52</td>\n",
       "      <td>2.001289e+07</td>\n",
       "      <td>110928.72</td>\n",
       "      <td>1</td>\n",
       "      <td>111149.0915</td>\n",
       "      <td>52.385937</td>\n",
       "      <td>198.806444</td>\n",
       "      <td>372.913906</td>\n",
       "      <td>110718.55</td>\n",
       "      <td>110506.93</td>\n",
       "      <td>23</td>\n",
       "      <td>2025</td>\n",
       "      <td>5</td>\n",
       "      <td>Friday</td>\n",
       "    </tr>\n",
       "    <tr>\n",
       "      <th>1966</th>\n",
       "      <td>111366.36</td>\n",
       "      <td>110907.00</td>\n",
       "      <td>110928.72</td>\n",
       "      <td>339.55</td>\n",
       "      <td>3.773857e+07</td>\n",
       "      <td>111321.52</td>\n",
       "      <td>1</td>\n",
       "      <td>111168.2850</td>\n",
       "      <td>56.859128</td>\n",
       "      <td>211.604894</td>\n",
       "      <td>340.652104</td>\n",
       "      <td>110928.72</td>\n",
       "      <td>110718.55</td>\n",
       "      <td>23</td>\n",
       "      <td>2025</td>\n",
       "      <td>5</td>\n",
       "      <td>Friday</td>\n",
       "    </tr>\n",
       "    <tr>\n",
       "      <th>1967</th>\n",
       "      <td>111331.45</td>\n",
       "      <td>110823.12</td>\n",
       "      <td>111321.52</td>\n",
       "      <td>365.77</td>\n",
       "      <td>4.061595e+07</td>\n",
       "      <td>111072.69</td>\n",
       "      <td>1</td>\n",
       "      <td>111175.9815</td>\n",
       "      <td>53.434452</td>\n",
       "      <td>199.371031</td>\n",
       "      <td>312.395889</td>\n",
       "      <td>111321.52</td>\n",
       "      <td>110928.72</td>\n",
       "      <td>23</td>\n",
       "      <td>2025</td>\n",
       "      <td>5</td>\n",
       "      <td>Friday</td>\n",
       "    </tr>\n",
       "  </tbody>\n",
       "</table>\n",
       "<p>1943 rows × 17 columns</p>\n",
       "</div>"
      ],
      "text/plain": [
       "           high        low       open  volumefrom      volumeto      close  \\\n",
       "25     93229.03   92654.50   92713.38     1523.68  1.416616e+08   92994.05   \n",
       "26     93663.56   92860.40   92994.05     1543.86  1.439753e+08   93571.95   \n",
       "27     93708.94   89157.47   93571.95     7951.87  7.273265e+08   89189.29   \n",
       "28     91252.06   89130.39   89189.29     7440.02  6.715835e+08   89969.60   \n",
       "29     90674.68   89608.59   89969.60     3148.35  2.836649e+08   90113.31   \n",
       "...         ...        ...        ...         ...           ...        ...   \n",
       "1963  110845.91  110398.94  110842.09      547.57  6.052678e+07  110506.93   \n",
       "1964  110841.96  110506.86  110506.93      384.61  4.257316e+07  110718.55   \n",
       "1965  111007.46  110714.46  110718.55      180.52  2.001289e+07  110928.72   \n",
       "1966  111366.36  110907.00  110928.72      339.55  3.773857e+07  111321.52   \n",
       "1967  111331.45  110823.12  111321.52      365.77  4.061595e+07  111072.69   \n",
       "\n",
       "      conversionType         MA20        RSI         MACD  MACD_signal  \\\n",
       "25                 1   93078.9935  60.600419  1019.008796  1310.959829   \n",
       "26                 1   93051.0455  63.303437  1034.435412  1255.654946   \n",
       "27                 1   92871.0050  40.571111   685.119451  1141.547847   \n",
       "28                 1   92692.9645  44.399445   465.878178  1006.413913   \n",
       "29                 1   92480.3500  45.100871   300.262842   865.183699   \n",
       "...              ...          ...        ...          ...          ...   \n",
       "1963               1  111197.3505  47.114141   264.284964   465.657610   \n",
       "1964               1  111183.4980  49.799819   219.573419   416.440772   \n",
       "1965               1  111149.0915  52.385937   198.806444   372.913906   \n",
       "1966               1  111168.2850  56.859128   211.604894   340.652104   \n",
       "1967               1  111175.9815  53.434452   199.371031   312.395889   \n",
       "\n",
       "          Lag_1      Lag_2  day  year  month day_name  \n",
       "25     92713.38   92526.89    3  2025      3   Monday  \n",
       "26     92994.05   92713.38    3  2025      3   Monday  \n",
       "27     93571.95   92994.05    3  2025      3   Monday  \n",
       "28     89189.29   93571.95    3  2025      3   Monday  \n",
       "29     89969.60   89189.29    3  2025      3   Monday  \n",
       "...         ...        ...  ...   ...    ...      ...  \n",
       "1963  110842.09  110838.42   23  2025      5   Friday  \n",
       "1964  110506.93  110842.09   23  2025      5   Friday  \n",
       "1965  110718.55  110506.93   23  2025      5   Friday  \n",
       "1966  110928.72  110718.55   23  2025      5   Friday  \n",
       "1967  111321.52  110928.72   23  2025      5   Friday  \n",
       "\n",
       "[1943 rows x 17 columns]"
      ]
     },
     "execution_count": 6,
     "metadata": {},
     "output_type": "execute_result"
    }
   ],
   "source": [
    "data"
   ]
  },
  {
   "cell_type": "code",
   "execution_count": 8,
   "id": "bf3c376e-bace-4fe7-81f9-0ad42148bc33",
   "metadata": {},
   "outputs": [],
   "source": [
    "data.drop(['conversionType'], axis = 1,inplace = True)\n",
    "data.dropna(inplace = True)"
   ]
  },
  {
   "cell_type": "markdown",
   "id": "57d255e8-9692-4b9a-b8f4-bec5bc1d0ef5",
   "metadata": {},
   "source": [
    "##   Current Feature Categories\r\n",
    "\r",
    "The features in my dataset and the information they carry\n",
    "\n",
    ":\r\n",
    "\r\n",
    "| **Feature**               | **Type**              | **What it tells the model**                                           |\r\n",
    "|---------------------------|-----------------------|------------------------------------------------------------------------|\r\n",
    "| `high`, `low`, `open`, `close` | Price action         | Basic price movements within a timeframe                              |\r\n",
    "| `volumefrom`, `volumeto` | Volume activity       | How much is being traded (momentum, pressure)                         |\r\n",
    "| `MA20`                    | Trend Indicator       | 20-period moving average, shows direction                             |\r\n",
    "| `RSI`                     | Momentum Indicator    | Overbought/Oversold levels                                            |\r\n",
    "| `MACD`, `MACD_signal`     | Trend Reversal        | MACD line vs signal line = bullish/bearish crossovers                 |\r\n",
    "| `Lag_1`, `Lag_2`          | Lag features          | Recent past closing prices, gives memory to the model     r your model.\r\n"
   ]
  },
  {
   "cell_type": "code",
   "execution_count": 9,
   "id": "245908bb-ebe6-4d6b-8b48-fc758af94c8e",
   "metadata": {},
   "outputs": [
    {
     "data": {
      "text/html": [
       "<div>\n",
       "<style scoped>\n",
       "    .dataframe tbody tr th:only-of-type {\n",
       "        vertical-align: middle;\n",
       "    }\n",
       "\n",
       "    .dataframe tbody tr th {\n",
       "        vertical-align: top;\n",
       "    }\n",
       "\n",
       "    .dataframe thead th {\n",
       "        text-align: right;\n",
       "    }\n",
       "</style>\n",
       "<table border=\"1\" class=\"dataframe\">\n",
       "  <thead>\n",
       "    <tr style=\"text-align: right;\">\n",
       "      <th></th>\n",
       "      <th>high</th>\n",
       "      <th>low</th>\n",
       "      <th>open</th>\n",
       "      <th>volumefrom</th>\n",
       "      <th>volumeto</th>\n",
       "      <th>close</th>\n",
       "      <th>MA20</th>\n",
       "      <th>RSI</th>\n",
       "      <th>MACD</th>\n",
       "      <th>MACD_signal</th>\n",
       "      <th>Lag_1</th>\n",
       "      <th>Lag_2</th>\n",
       "      <th>day</th>\n",
       "      <th>year</th>\n",
       "      <th>month</th>\n",
       "      <th>day_name</th>\n",
       "    </tr>\n",
       "  </thead>\n",
       "  <tbody>\n",
       "    <tr>\n",
       "      <th>25</th>\n",
       "      <td>93229.03</td>\n",
       "      <td>92654.50</td>\n",
       "      <td>92713.38</td>\n",
       "      <td>1523.68</td>\n",
       "      <td>1.416616e+08</td>\n",
       "      <td>92994.05</td>\n",
       "      <td>93078.9935</td>\n",
       "      <td>60.600419</td>\n",
       "      <td>1019.008796</td>\n",
       "      <td>1310.959829</td>\n",
       "      <td>92713.38</td>\n",
       "      <td>92526.89</td>\n",
       "      <td>3</td>\n",
       "      <td>2025</td>\n",
       "      <td>3</td>\n",
       "      <td>Monday</td>\n",
       "    </tr>\n",
       "    <tr>\n",
       "      <th>26</th>\n",
       "      <td>93663.56</td>\n",
       "      <td>92860.40</td>\n",
       "      <td>92994.05</td>\n",
       "      <td>1543.86</td>\n",
       "      <td>1.439753e+08</td>\n",
       "      <td>93571.95</td>\n",
       "      <td>93051.0455</td>\n",
       "      <td>63.303437</td>\n",
       "      <td>1034.435412</td>\n",
       "      <td>1255.654946</td>\n",
       "      <td>92994.05</td>\n",
       "      <td>92713.38</td>\n",
       "      <td>3</td>\n",
       "      <td>2025</td>\n",
       "      <td>3</td>\n",
       "      <td>Monday</td>\n",
       "    </tr>\n",
       "    <tr>\n",
       "      <th>27</th>\n",
       "      <td>93708.94</td>\n",
       "      <td>89157.47</td>\n",
       "      <td>93571.95</td>\n",
       "      <td>7951.87</td>\n",
       "      <td>7.273265e+08</td>\n",
       "      <td>89189.29</td>\n",
       "      <td>92871.0050</td>\n",
       "      <td>40.571111</td>\n",
       "      <td>685.119451</td>\n",
       "      <td>1141.547847</td>\n",
       "      <td>93571.95</td>\n",
       "      <td>92994.05</td>\n",
       "      <td>3</td>\n",
       "      <td>2025</td>\n",
       "      <td>3</td>\n",
       "      <td>Monday</td>\n",
       "    </tr>\n",
       "    <tr>\n",
       "      <th>28</th>\n",
       "      <td>91252.06</td>\n",
       "      <td>89130.39</td>\n",
       "      <td>89189.29</td>\n",
       "      <td>7440.02</td>\n",
       "      <td>6.715835e+08</td>\n",
       "      <td>89969.60</td>\n",
       "      <td>92692.9645</td>\n",
       "      <td>44.399445</td>\n",
       "      <td>465.878178</td>\n",
       "      <td>1006.413913</td>\n",
       "      <td>89189.29</td>\n",
       "      <td>93571.95</td>\n",
       "      <td>3</td>\n",
       "      <td>2025</td>\n",
       "      <td>3</td>\n",
       "      <td>Monday</td>\n",
       "    </tr>\n",
       "    <tr>\n",
       "      <th>29</th>\n",
       "      <td>90674.68</td>\n",
       "      <td>89608.59</td>\n",
       "      <td>89969.60</td>\n",
       "      <td>3148.35</td>\n",
       "      <td>2.836649e+08</td>\n",
       "      <td>90113.31</td>\n",
       "      <td>92480.3500</td>\n",
       "      <td>45.100871</td>\n",
       "      <td>300.262842</td>\n",
       "      <td>865.183699</td>\n",
       "      <td>89969.60</td>\n",
       "      <td>89189.29</td>\n",
       "      <td>3</td>\n",
       "      <td>2025</td>\n",
       "      <td>3</td>\n",
       "      <td>Monday</td>\n",
       "    </tr>\n",
       "  </tbody>\n",
       "</table>\n",
       "</div>"
      ],
      "text/plain": [
       "        high       low      open  volumefrom      volumeto     close  \\\n",
       "25  93229.03  92654.50  92713.38     1523.68  1.416616e+08  92994.05   \n",
       "26  93663.56  92860.40  92994.05     1543.86  1.439753e+08  93571.95   \n",
       "27  93708.94  89157.47  93571.95     7951.87  7.273265e+08  89189.29   \n",
       "28  91252.06  89130.39  89189.29     7440.02  6.715835e+08  89969.60   \n",
       "29  90674.68  89608.59  89969.60     3148.35  2.836649e+08  90113.31   \n",
       "\n",
       "          MA20        RSI         MACD  MACD_signal     Lag_1     Lag_2  day  \\\n",
       "25  93078.9935  60.600419  1019.008796  1310.959829  92713.38  92526.89    3   \n",
       "26  93051.0455  63.303437  1034.435412  1255.654946  92994.05  92713.38    3   \n",
       "27  92871.0050  40.571111   685.119451  1141.547847  93571.95  92994.05    3   \n",
       "28  92692.9645  44.399445   465.878178  1006.413913  89189.29  93571.95    3   \n",
       "29  92480.3500  45.100871   300.262842   865.183699  89969.60  89189.29    3   \n",
       "\n",
       "    year  month day_name  \n",
       "25  2025      3   Monday  \n",
       "26  2025      3   Monday  \n",
       "27  2025      3   Monday  \n",
       "28  2025      3   Monday  \n",
       "29  2025      3   Monday  "
      ]
     },
     "execution_count": 9,
     "metadata": {},
     "output_type": "execute_result"
    }
   ],
   "source": [
    "data.head(5)"
   ]
  },
  {
   "cell_type": "markdown",
   "id": "7df07db7-77ad-4af2-ae15-af5b2acd9304",
   "metadata": {},
   "source": [
    "#### Decide what you're classifying:\n",
    "\n",
    "#### 📈 Strategy Signal Table\r\n",
    "\r\n",
    "This table outlines different trading strategies with their corresponding buy and sell signal\n",
    "However we would be working with Future return strategy \" If future close price > current by X% \"s.\r\n",
    "\r\n",
    "| **Strategy**           | **Buy Signal**                                           | **Sell Signal**                                          |\r\n",
    "|------------------------|----------------------------------------------------------|----------------------------------------------------------|\r\n",
    "| **Future Return**      | If future close price > current by X%                   | If future close price < current by X%                   |\r\n",
    "| **Technical Indicator**| RSI < 30 and MACD crosses above signal line             | RSI > 70 and MACD crosses below signal line             |\r\n",
    "| **Trend**              | Next N periods are higher                                | Next N periods are lower                                |\r\n"
   ]
  },
  {
   "cell_type": "code",
   "execution_count": 10,
   "id": "c3d665b1-4647-4b59-8f08-ffb6b8104e2f",
   "metadata": {},
   "outputs": [
    {
     "data": {
      "text/plain": [
       "25    92994.05\n",
       "26    93571.95\n",
       "27    89189.29\n",
       "28    89969.60\n",
       "29    90113.31\n",
       "Name: close, dtype: float64"
      ]
     },
     "execution_count": 10,
     "metadata": {},
     "output_type": "execute_result"
    }
   ],
   "source": [
    "data['close'].head()"
   ]
  },
  {
   "cell_type": "code",
   "execution_count": 11,
   "id": "b5dbb073-4955-4fe9-828a-2113d2baaca4",
   "metadata": {},
   "outputs": [],
   "source": [
    "data.dropna(inplace=True)\n",
    "data['future_return'] = data['close'].shift(-3) / data['close'] - 1\n",
    "data['target'] = data['future_return'].apply(lambda x: 1 if x > 0.01 else (0 if x < -0.01 else 2)).astype('i1')\n",
    "\n"
   ]
  },
  {
   "cell_type": "code",
   "execution_count": 12,
   "id": "0b7f3680-a353-43b7-b596-544923214a23",
   "metadata": {},
   "outputs": [
    {
     "data": {
      "text/plain": [
       "high             0\n",
       "low              0\n",
       "open             0\n",
       "volumefrom       0\n",
       "volumeto         0\n",
       "close            0\n",
       "MA20             0\n",
       "RSI              0\n",
       "MACD             0\n",
       "MACD_signal      0\n",
       "Lag_1            0\n",
       "Lag_2            0\n",
       "day              0\n",
       "year             0\n",
       "month            0\n",
       "day_name         0\n",
       "future_return    3\n",
       "target           0\n",
       "dtype: int64"
      ]
     },
     "execution_count": 12,
     "metadata": {},
     "output_type": "execute_result"
    }
   ],
   "source": [
    "data.isna().sum()"
   ]
  },
  {
   "cell_type": "code",
   "execution_count": 13,
   "id": "bab17222-7109-45b2-a842-92f10972aac8",
   "metadata": {},
   "outputs": [],
   "source": [
    "import warnings\n",
    "warnings.filterwarnings(\"ignore\")\n",
    "data.dropna(inplace =True)"
   ]
  },
  {
   "cell_type": "code",
   "execution_count": 14,
   "id": "b1c34159-2ced-4e71-8683-a3b580dee50d",
   "metadata": {},
   "outputs": [
    {
     "data": {
      "text/plain": [
       "25      0\n",
       "26      0\n",
       "27      1\n",
       "28      0\n",
       "29      0\n",
       "       ..\n",
       "1960    2\n",
       "1961    2\n",
       "1962    2\n",
       "1963    2\n",
       "1964    2\n",
       "Name: target, Length: 1940, dtype: int8"
      ]
     },
     "execution_count": 14,
     "metadata": {},
     "output_type": "execute_result"
    }
   ],
   "source": [
    "data['target'] #.head() #.shift(-1)"
   ]
  },
  {
   "cell_type": "markdown",
   "id": "9705fc56-9808-451a-8e35-0fa206ee34e7",
   "metadata": {},
   "source": [
    "#### Encode day-name"
   ]
  },
  {
   "cell_type": "code",
   "execution_count": 15,
   "id": "78a73ff8-21c9-4a26-90e8-5f9bea4dac53",
   "metadata": {},
   "outputs": [],
   "source": [
    "from sklearn.preprocessing import LabelEncoder"
   ]
  },
  {
   "cell_type": "code",
   "execution_count": 16,
   "id": "8ae39d39-d93a-4aab-a9c9-9c2c08f766a3",
   "metadata": {},
   "outputs": [],
   "source": [
    "encoder = LabelEncoder()   #intialize encoder\n",
    "data['day_name'] = encoder.fit_transform(data['day_name']).astype('i1')"
   ]
  },
  {
   "cell_type": "code",
   "execution_count": 17,
   "id": "d2dccc2c-be23-4523-93c7-177760c1bf28",
   "metadata": {},
   "outputs": [
    {
     "data": {
      "text/html": [
       "<div>\n",
       "<style scoped>\n",
       "    .dataframe tbody tr th:only-of-type {\n",
       "        vertical-align: middle;\n",
       "    }\n",
       "\n",
       "    .dataframe tbody tr th {\n",
       "        vertical-align: top;\n",
       "    }\n",
       "\n",
       "    .dataframe thead th {\n",
       "        text-align: right;\n",
       "    }\n",
       "</style>\n",
       "<table border=\"1\" class=\"dataframe\">\n",
       "  <thead>\n",
       "    <tr style=\"text-align: right;\">\n",
       "      <th></th>\n",
       "      <th>high</th>\n",
       "      <th>low</th>\n",
       "      <th>open</th>\n",
       "      <th>volumefrom</th>\n",
       "      <th>volumeto</th>\n",
       "      <th>close</th>\n",
       "      <th>MA20</th>\n",
       "      <th>RSI</th>\n",
       "      <th>MACD</th>\n",
       "      <th>MACD_signal</th>\n",
       "      <th>Lag_1</th>\n",
       "      <th>Lag_2</th>\n",
       "      <th>day</th>\n",
       "      <th>year</th>\n",
       "      <th>month</th>\n",
       "      <th>day_name</th>\n",
       "      <th>future_return</th>\n",
       "      <th>target</th>\n",
       "    </tr>\n",
       "  </thead>\n",
       "  <tbody>\n",
       "    <tr>\n",
       "      <th>25</th>\n",
       "      <td>93229.03</td>\n",
       "      <td>92654.50</td>\n",
       "      <td>92713.38</td>\n",
       "      <td>1523.68</td>\n",
       "      <td>1.416616e+08</td>\n",
       "      <td>92994.05</td>\n",
       "      <td>93078.9935</td>\n",
       "      <td>60.600419</td>\n",
       "      <td>1019.008796</td>\n",
       "      <td>1310.959829</td>\n",
       "      <td>92713.38</td>\n",
       "      <td>92526.89</td>\n",
       "      <td>3</td>\n",
       "      <td>2025</td>\n",
       "      <td>3</td>\n",
       "      <td>1</td>\n",
       "      <td>-0.032523</td>\n",
       "      <td>0</td>\n",
       "    </tr>\n",
       "    <tr>\n",
       "      <th>26</th>\n",
       "      <td>93663.56</td>\n",
       "      <td>92860.40</td>\n",
       "      <td>92994.05</td>\n",
       "      <td>1543.86</td>\n",
       "      <td>1.439753e+08</td>\n",
       "      <td>93571.95</td>\n",
       "      <td>93051.0455</td>\n",
       "      <td>63.303437</td>\n",
       "      <td>1034.435412</td>\n",
       "      <td>1255.654946</td>\n",
       "      <td>92994.05</td>\n",
       "      <td>92713.38</td>\n",
       "      <td>3</td>\n",
       "      <td>2025</td>\n",
       "      <td>3</td>\n",
       "      <td>1</td>\n",
       "      <td>-0.036962</td>\n",
       "      <td>0</td>\n",
       "    </tr>\n",
       "    <tr>\n",
       "      <th>27</th>\n",
       "      <td>93708.94</td>\n",
       "      <td>89157.47</td>\n",
       "      <td>93571.95</td>\n",
       "      <td>7951.87</td>\n",
       "      <td>7.273265e+08</td>\n",
       "      <td>89189.29</td>\n",
       "      <td>92871.0050</td>\n",
       "      <td>40.571111</td>\n",
       "      <td>685.119451</td>\n",
       "      <td>1141.547847</td>\n",
       "      <td>93571.95</td>\n",
       "      <td>92994.05</td>\n",
       "      <td>3</td>\n",
       "      <td>2025</td>\n",
       "      <td>3</td>\n",
       "      <td>1</td>\n",
       "      <td>0.011857</td>\n",
       "      <td>1</td>\n",
       "    </tr>\n",
       "    <tr>\n",
       "      <th>28</th>\n",
       "      <td>91252.06</td>\n",
       "      <td>89130.39</td>\n",
       "      <td>89189.29</td>\n",
       "      <td>7440.02</td>\n",
       "      <td>6.715835e+08</td>\n",
       "      <td>89969.60</td>\n",
       "      <td>92692.9645</td>\n",
       "      <td>44.399445</td>\n",
       "      <td>465.878178</td>\n",
       "      <td>1006.413913</td>\n",
       "      <td>89189.29</td>\n",
       "      <td>93571.95</td>\n",
       "      <td>3</td>\n",
       "      <td>2025</td>\n",
       "      <td>3</td>\n",
       "      <td>1</td>\n",
       "      <td>-0.031914</td>\n",
       "      <td>0</td>\n",
       "    </tr>\n",
       "    <tr>\n",
       "      <th>29</th>\n",
       "      <td>90674.68</td>\n",
       "      <td>89608.59</td>\n",
       "      <td>89969.60</td>\n",
       "      <td>3148.35</td>\n",
       "      <td>2.836649e+08</td>\n",
       "      <td>90113.31</td>\n",
       "      <td>92480.3500</td>\n",
       "      <td>45.100871</td>\n",
       "      <td>300.262842</td>\n",
       "      <td>865.183699</td>\n",
       "      <td>89969.60</td>\n",
       "      <td>89189.29</td>\n",
       "      <td>3</td>\n",
       "      <td>2025</td>\n",
       "      <td>3</td>\n",
       "      <td>1</td>\n",
       "      <td>-0.050883</td>\n",
       "      <td>0</td>\n",
       "    </tr>\n",
       "  </tbody>\n",
       "</table>\n",
       "</div>"
      ],
      "text/plain": [
       "        high       low      open  volumefrom      volumeto     close  \\\n",
       "25  93229.03  92654.50  92713.38     1523.68  1.416616e+08  92994.05   \n",
       "26  93663.56  92860.40  92994.05     1543.86  1.439753e+08  93571.95   \n",
       "27  93708.94  89157.47  93571.95     7951.87  7.273265e+08  89189.29   \n",
       "28  91252.06  89130.39  89189.29     7440.02  6.715835e+08  89969.60   \n",
       "29  90674.68  89608.59  89969.60     3148.35  2.836649e+08  90113.31   \n",
       "\n",
       "          MA20        RSI         MACD  MACD_signal     Lag_1     Lag_2  day  \\\n",
       "25  93078.9935  60.600419  1019.008796  1310.959829  92713.38  92526.89    3   \n",
       "26  93051.0455  63.303437  1034.435412  1255.654946  92994.05  92713.38    3   \n",
       "27  92871.0050  40.571111   685.119451  1141.547847  93571.95  92994.05    3   \n",
       "28  92692.9645  44.399445   465.878178  1006.413913  89189.29  93571.95    3   \n",
       "29  92480.3500  45.100871   300.262842   865.183699  89969.60  89189.29    3   \n",
       "\n",
       "    year  month  day_name  future_return  target  \n",
       "25  2025      3         1      -0.032523       0  \n",
       "26  2025      3         1      -0.036962       0  \n",
       "27  2025      3         1       0.011857       1  \n",
       "28  2025      3         1      -0.031914       0  \n",
       "29  2025      3         1      -0.050883       0  "
      ]
     },
     "execution_count": 17,
     "metadata": {},
     "output_type": "execute_result"
    }
   ],
   "source": [
    "data.head()"
   ]
  },
  {
   "cell_type": "markdown",
   "id": "5a553d66-1b13-4b0f-8ea1-01cd6f75a984",
   "metadata": {},
   "source": [
    "## Build model"
   ]
  },
  {
   "cell_type": "code",
   "execution_count": 18,
   "id": "10e3d494-9107-4175-8b96-5504064c8cf5",
   "metadata": {},
   "outputs": [
    {
     "data": {
      "text/plain": [
       "(1940, 18)"
      ]
     },
     "execution_count": 18,
     "metadata": {},
     "output_type": "execute_result"
    }
   ],
   "source": [
    "data.shape"
   ]
  },
  {
   "cell_type": "code",
   "execution_count": 19,
   "id": "fcdf3d03-913a-45dd-80b0-46efd6110812",
   "metadata": {},
   "outputs": [],
   "source": [
    "#Define x and y\n",
    "y = data['target']\n",
    "x = data.drop(['target','future_return'], axis = 1)\n"
   ]
  },
  {
   "cell_type": "markdown",
   "id": "92ffbb9d-195f-4372-90ef-6cd50929831e",
   "metadata": {},
   "source": [
    "#### Split data into train and test"
   ]
  },
  {
   "cell_type": "code",
   "execution_count": 20,
   "id": "8bce2b33-d8b7-48f6-9339-1db46f7a1988",
   "metadata": {},
   "outputs": [],
   "source": [
    "from sklearn.model_selection import train_test_split\n",
    "x_train, x_test, y_train, y_test = train_test_split(x, y, test_size=0.2, shuffle=False)"
   ]
  },
  {
   "cell_type": "code",
   "execution_count": 21,
   "id": "daebf93e-e50c-458b-abf0-0c4a463a6544",
   "metadata": {},
   "outputs": [],
   "source": [
    "from sklearn.linear_model import LogisticRegression\n",
    "from sklearn.ensemble import RandomForestClassifier\n",
    "from xgboost import XGBClassifier"
   ]
  },
  {
   "cell_type": "code",
   "execution_count": 22,
   "id": "cf6b9e6c-cd3a-4299-bd40-73fd9217a5fd",
   "metadata": {},
   "outputs": [
    {
     "data": {
      "text/html": [
       "<style>#sk-container-id-1 {color: black;background-color: white;}#sk-container-id-1 pre{padding: 0;}#sk-container-id-1 div.sk-toggleable {background-color: white;}#sk-container-id-1 label.sk-toggleable__label {cursor: pointer;display: block;width: 100%;margin-bottom: 0;padding: 0.3em;box-sizing: border-box;text-align: center;}#sk-container-id-1 label.sk-toggleable__label-arrow:before {content: \"▸\";float: left;margin-right: 0.25em;color: #696969;}#sk-container-id-1 label.sk-toggleable__label-arrow:hover:before {color: black;}#sk-container-id-1 div.sk-estimator:hover label.sk-toggleable__label-arrow:before {color: black;}#sk-container-id-1 div.sk-toggleable__content {max-height: 0;max-width: 0;overflow: hidden;text-align: left;background-color: #f0f8ff;}#sk-container-id-1 div.sk-toggleable__content pre {margin: 0.2em;color: black;border-radius: 0.25em;background-color: #f0f8ff;}#sk-container-id-1 input.sk-toggleable__control:checked~div.sk-toggleable__content {max-height: 200px;max-width: 100%;overflow: auto;}#sk-container-id-1 input.sk-toggleable__control:checked~label.sk-toggleable__label-arrow:before {content: \"▾\";}#sk-container-id-1 div.sk-estimator input.sk-toggleable__control:checked~label.sk-toggleable__label {background-color: #d4ebff;}#sk-container-id-1 div.sk-label input.sk-toggleable__control:checked~label.sk-toggleable__label {background-color: #d4ebff;}#sk-container-id-1 input.sk-hidden--visually {border: 0;clip: rect(1px 1px 1px 1px);clip: rect(1px, 1px, 1px, 1px);height: 1px;margin: -1px;overflow: hidden;padding: 0;position: absolute;width: 1px;}#sk-container-id-1 div.sk-estimator {font-family: monospace;background-color: #f0f8ff;border: 1px dotted black;border-radius: 0.25em;box-sizing: border-box;margin-bottom: 0.5em;}#sk-container-id-1 div.sk-estimator:hover {background-color: #d4ebff;}#sk-container-id-1 div.sk-parallel-item::after {content: \"\";width: 100%;border-bottom: 1px solid gray;flex-grow: 1;}#sk-container-id-1 div.sk-label:hover label.sk-toggleable__label {background-color: #d4ebff;}#sk-container-id-1 div.sk-serial::before {content: \"\";position: absolute;border-left: 1px solid gray;box-sizing: border-box;top: 0;bottom: 0;left: 50%;z-index: 0;}#sk-container-id-1 div.sk-serial {display: flex;flex-direction: column;align-items: center;background-color: white;padding-right: 0.2em;padding-left: 0.2em;position: relative;}#sk-container-id-1 div.sk-item {position: relative;z-index: 1;}#sk-container-id-1 div.sk-parallel {display: flex;align-items: stretch;justify-content: center;background-color: white;position: relative;}#sk-container-id-1 div.sk-item::before, #sk-container-id-1 div.sk-parallel-item::before {content: \"\";position: absolute;border-left: 1px solid gray;box-sizing: border-box;top: 0;bottom: 0;left: 50%;z-index: -1;}#sk-container-id-1 div.sk-parallel-item {display: flex;flex-direction: column;z-index: 1;position: relative;background-color: white;}#sk-container-id-1 div.sk-parallel-item:first-child::after {align-self: flex-end;width: 50%;}#sk-container-id-1 div.sk-parallel-item:last-child::after {align-self: flex-start;width: 50%;}#sk-container-id-1 div.sk-parallel-item:only-child::after {width: 0;}#sk-container-id-1 div.sk-dashed-wrapped {border: 1px dashed gray;margin: 0 0.4em 0.5em 0.4em;box-sizing: border-box;padding-bottom: 0.4em;background-color: white;}#sk-container-id-1 div.sk-label label {font-family: monospace;font-weight: bold;display: inline-block;line-height: 1.2em;}#sk-container-id-1 div.sk-label-container {text-align: center;}#sk-container-id-1 div.sk-container {/* jupyter's `normalize.less` sets `[hidden] { display: none; }` but bootstrap.min.css set `[hidden] { display: none !important; }` so we also need the `!important` here to be able to override the default hidden behavior on the sphinx rendered scikit-learn.org. See: https://github.com/scikit-learn/scikit-learn/issues/21755 */display: inline-block !important;position: relative;}#sk-container-id-1 div.sk-text-repr-fallback {display: none;}</style><div id=\"sk-container-id-1\" class=\"sk-top-container\"><div class=\"sk-text-repr-fallback\"><pre>XGBClassifier(base_score=None, booster=None, callbacks=None,\n",
       "              colsample_bylevel=None, colsample_bynode=None,\n",
       "              colsample_bytree=None, device=None, early_stopping_rounds=None,\n",
       "              enable_categorical=False, eval_metric=None, feature_types=None,\n",
       "              feature_weights=None, gamma=None, grow_policy=None,\n",
       "              importance_type=None, interaction_constraints=None,\n",
       "              learning_rate=0.03, max_bin=None, max_cat_threshold=None,\n",
       "              max_cat_to_onehot=None, max_delta_step=None, max_depth=20,\n",
       "              max_leaves=None, min_child_weight=None, missing=nan,\n",
       "              monotone_constraints=None, multi_strategy=None, n_estimators=20,\n",
       "              n_jobs=60, num_parallel_tree=None, ...)</pre><b>In a Jupyter environment, please rerun this cell to show the HTML representation or trust the notebook. <br />On GitHub, the HTML representation is unable to render, please try loading this page with nbviewer.org.</b></div><div class=\"sk-container\" hidden><div class=\"sk-item\"><div class=\"sk-estimator sk-toggleable\"><input class=\"sk-toggleable__control sk-hidden--visually\" id=\"sk-estimator-id-1\" type=\"checkbox\" checked><label for=\"sk-estimator-id-1\" class=\"sk-toggleable__label sk-toggleable__label-arrow\">XGBClassifier</label><div class=\"sk-toggleable__content\"><pre>XGBClassifier(base_score=None, booster=None, callbacks=None,\n",
       "              colsample_bylevel=None, colsample_bynode=None,\n",
       "              colsample_bytree=None, device=None, early_stopping_rounds=None,\n",
       "              enable_categorical=False, eval_metric=None, feature_types=None,\n",
       "              feature_weights=None, gamma=None, grow_policy=None,\n",
       "              importance_type=None, interaction_constraints=None,\n",
       "              learning_rate=0.03, max_bin=None, max_cat_threshold=None,\n",
       "              max_cat_to_onehot=None, max_delta_step=None, max_depth=20,\n",
       "              max_leaves=None, min_child_weight=None, missing=nan,\n",
       "              monotone_constraints=None, multi_strategy=None, n_estimators=20,\n",
       "              n_jobs=60, num_parallel_tree=None, ...)</pre></div></div></div></div></div>"
      ],
      "text/plain": [
       "XGBClassifier(base_score=None, booster=None, callbacks=None,\n",
       "              colsample_bylevel=None, colsample_bynode=None,\n",
       "              colsample_bytree=None, device=None, early_stopping_rounds=None,\n",
       "              enable_categorical=False, eval_metric=None, feature_types=None,\n",
       "              feature_weights=None, gamma=None, grow_policy=None,\n",
       "              importance_type=None, interaction_constraints=None,\n",
       "              learning_rate=0.03, max_bin=None, max_cat_threshold=None,\n",
       "              max_cat_to_onehot=None, max_delta_step=None, max_depth=20,\n",
       "              max_leaves=None, min_child_weight=None, missing=nan,\n",
       "              monotone_constraints=None, multi_strategy=None, n_estimators=20,\n",
       "              n_jobs=60, num_parallel_tree=None, ...)"
      ]
     },
     "execution_count": 22,
     "metadata": {},
     "output_type": "execute_result"
    }
   ],
   "source": [
    "modelXGB = XGBClassifier(n_estimators=20,\n",
    "                       max_depth = 20,\n",
    "                        learning_rate = 0.03 ,\n",
    "                         n_jobs = 60,\n",
    "                        )\n",
    "modelXGB.fit(x_train, y_train)\n"
   ]
  },
  {
   "cell_type": "code",
   "execution_count": 23,
   "id": "2c79ffe5-2001-4a58-b18f-a7b104c1f19e",
   "metadata": {},
   "outputs": [
    {
     "name": "stdout",
     "output_type": "stream",
     "text": [
      " model performance on train 0.9568298969072165 \n",
      " model performance on test 0.8505154639175257\n"
     ]
    }
   ],
   "source": [
    "print(f' model performance on train {modelXGB.score(x_train,y_train)} \\n',\n",
    "    f'model performance on test {modelXGB.score(x_test, y_test)}')"
   ]
  },
  {
   "cell_type": "code",
   "execution_count": 24,
   "id": "410aa6cb-c6fa-4f98-9760-d06e2e956d1e",
   "metadata": {},
   "outputs": [],
   "source": [
    "from sklearn.linear_model import LogisticRegression"
   ]
  },
  {
   "cell_type": "code",
   "execution_count": 25,
   "id": "cc652fa9-14e9-4226-a0f4-d91a98c1bf3b",
   "metadata": {},
   "outputs": [],
   "source": [
    "modelLR = LogisticRegression(penalty='l2', n_jobs=50)"
   ]
  },
  {
   "cell_type": "code",
   "execution_count": 26,
   "id": "cf0b545c-bb9b-46ac-b1b5-1ca0dd514e43",
   "metadata": {},
   "outputs": [
    {
     "data": {
      "text/html": [
       "<style>#sk-container-id-2 {color: black;background-color: white;}#sk-container-id-2 pre{padding: 0;}#sk-container-id-2 div.sk-toggleable {background-color: white;}#sk-container-id-2 label.sk-toggleable__label {cursor: pointer;display: block;width: 100%;margin-bottom: 0;padding: 0.3em;box-sizing: border-box;text-align: center;}#sk-container-id-2 label.sk-toggleable__label-arrow:before {content: \"▸\";float: left;margin-right: 0.25em;color: #696969;}#sk-container-id-2 label.sk-toggleable__label-arrow:hover:before {color: black;}#sk-container-id-2 div.sk-estimator:hover label.sk-toggleable__label-arrow:before {color: black;}#sk-container-id-2 div.sk-toggleable__content {max-height: 0;max-width: 0;overflow: hidden;text-align: left;background-color: #f0f8ff;}#sk-container-id-2 div.sk-toggleable__content pre {margin: 0.2em;color: black;border-radius: 0.25em;background-color: #f0f8ff;}#sk-container-id-2 input.sk-toggleable__control:checked~div.sk-toggleable__content {max-height: 200px;max-width: 100%;overflow: auto;}#sk-container-id-2 input.sk-toggleable__control:checked~label.sk-toggleable__label-arrow:before {content: \"▾\";}#sk-container-id-2 div.sk-estimator input.sk-toggleable__control:checked~label.sk-toggleable__label {background-color: #d4ebff;}#sk-container-id-2 div.sk-label input.sk-toggleable__control:checked~label.sk-toggleable__label {background-color: #d4ebff;}#sk-container-id-2 input.sk-hidden--visually {border: 0;clip: rect(1px 1px 1px 1px);clip: rect(1px, 1px, 1px, 1px);height: 1px;margin: -1px;overflow: hidden;padding: 0;position: absolute;width: 1px;}#sk-container-id-2 div.sk-estimator {font-family: monospace;background-color: #f0f8ff;border: 1px dotted black;border-radius: 0.25em;box-sizing: border-box;margin-bottom: 0.5em;}#sk-container-id-2 div.sk-estimator:hover {background-color: #d4ebff;}#sk-container-id-2 div.sk-parallel-item::after {content: \"\";width: 100%;border-bottom: 1px solid gray;flex-grow: 1;}#sk-container-id-2 div.sk-label:hover label.sk-toggleable__label {background-color: #d4ebff;}#sk-container-id-2 div.sk-serial::before {content: \"\";position: absolute;border-left: 1px solid gray;box-sizing: border-box;top: 0;bottom: 0;left: 50%;z-index: 0;}#sk-container-id-2 div.sk-serial {display: flex;flex-direction: column;align-items: center;background-color: white;padding-right: 0.2em;padding-left: 0.2em;position: relative;}#sk-container-id-2 div.sk-item {position: relative;z-index: 1;}#sk-container-id-2 div.sk-parallel {display: flex;align-items: stretch;justify-content: center;background-color: white;position: relative;}#sk-container-id-2 div.sk-item::before, #sk-container-id-2 div.sk-parallel-item::before {content: \"\";position: absolute;border-left: 1px solid gray;box-sizing: border-box;top: 0;bottom: 0;left: 50%;z-index: -1;}#sk-container-id-2 div.sk-parallel-item {display: flex;flex-direction: column;z-index: 1;position: relative;background-color: white;}#sk-container-id-2 div.sk-parallel-item:first-child::after {align-self: flex-end;width: 50%;}#sk-container-id-2 div.sk-parallel-item:last-child::after {align-self: flex-start;width: 50%;}#sk-container-id-2 div.sk-parallel-item:only-child::after {width: 0;}#sk-container-id-2 div.sk-dashed-wrapped {border: 1px dashed gray;margin: 0 0.4em 0.5em 0.4em;box-sizing: border-box;padding-bottom: 0.4em;background-color: white;}#sk-container-id-2 div.sk-label label {font-family: monospace;font-weight: bold;display: inline-block;line-height: 1.2em;}#sk-container-id-2 div.sk-label-container {text-align: center;}#sk-container-id-2 div.sk-container {/* jupyter's `normalize.less` sets `[hidden] { display: none; }` but bootstrap.min.css set `[hidden] { display: none !important; }` so we also need the `!important` here to be able to override the default hidden behavior on the sphinx rendered scikit-learn.org. See: https://github.com/scikit-learn/scikit-learn/issues/21755 */display: inline-block !important;position: relative;}#sk-container-id-2 div.sk-text-repr-fallback {display: none;}</style><div id=\"sk-container-id-2\" class=\"sk-top-container\"><div class=\"sk-text-repr-fallback\"><pre>LogisticRegression(n_jobs=50)</pre><b>In a Jupyter environment, please rerun this cell to show the HTML representation or trust the notebook. <br />On GitHub, the HTML representation is unable to render, please try loading this page with nbviewer.org.</b></div><div class=\"sk-container\" hidden><div class=\"sk-item\"><div class=\"sk-estimator sk-toggleable\"><input class=\"sk-toggleable__control sk-hidden--visually\" id=\"sk-estimator-id-2\" type=\"checkbox\" checked><label for=\"sk-estimator-id-2\" class=\"sk-toggleable__label sk-toggleable__label-arrow\">LogisticRegression</label><div class=\"sk-toggleable__content\"><pre>LogisticRegression(n_jobs=50)</pre></div></div></div></div></div>"
      ],
      "text/plain": [
       "LogisticRegression(n_jobs=50)"
      ]
     },
     "execution_count": 26,
     "metadata": {},
     "output_type": "execute_result"
    }
   ],
   "source": [
    "modelLR.fit(x_train, y_train)"
   ]
  },
  {
   "cell_type": "code",
   "execution_count": 27,
   "id": "e46ab8b4-c098-4b17-8e24-188edb3d29a9",
   "metadata": {},
   "outputs": [],
   "source": [
    "temp = x_test.copy()  \n",
    "temp['target'] = y_test\n",
    "temp.dropna(inplace =True)"
   ]
  },
  {
   "cell_type": "code",
   "execution_count": 28,
   "id": "659eba86-0379-4084-aa8c-bd35ea08da77",
   "metadata": {},
   "outputs": [],
   "source": [
    "x_test = temp.drop('target', axis = 1)\n",
    "y_test = temp['target']"
   ]
  },
  {
   "cell_type": "code",
   "execution_count": 29,
   "id": "2b8cbc49-889d-4739-9eb8-f1e8ee8bfa02",
   "metadata": {},
   "outputs": [
    {
     "data": {
      "text/plain": [
       "(0.8182989690721649, 0.8556701030927835)"
      ]
     },
     "execution_count": 29,
     "metadata": {},
     "output_type": "execute_result"
    }
   ],
   "source": [
    "modelLR.score(x_train,y_train), modelLR.score(x_test,y_test)"
   ]
  },
  {
   "cell_type": "code",
   "execution_count": 30,
   "id": "200873db-ec52-4820-a522-0ab3becab7c2",
   "metadata": {},
   "outputs": [
    {
     "data": {
      "text/plain": [
       "([2, 2, 2, 2, 2, 2, 2, 2, 2, 2],\n",
       " 1582    2\n",
       " 1583    2\n",
       " 1584    2\n",
       " 1585    2\n",
       " 1586    2\n",
       " 1587    2\n",
       " 1588    2\n",
       " 1589    2\n",
       " 1590    2\n",
       " 1591    2\n",
       " Name: target, dtype: int8)"
      ]
     },
     "execution_count": 30,
     "metadata": {},
     "output_type": "execute_result"
    }
   ],
   "source": [
    "list(modelXGB.predict(x_test[5:15])), y_test[5:15]"
   ]
  },
  {
   "cell_type": "raw",
   "id": "477a7741-3075-41ca-bea3-c962b31bd42d",
   "metadata": {},
   "source": [
    "Model overfits. Therefore we observe features to uncover the reason for this overfitting."
   ]
  },
  {
   "cell_type": "markdown",
   "id": "189c60bd-ba71-4e9d-8870-973114bebdf4",
   "metadata": {},
   "source": [
    "## Handle overfitting"
   ]
  },
  {
   "cell_type": "markdown",
   "id": "2215c73d-dddc-4e7f-8fbb-cefd6ef24f90",
   "metadata": {},
   "source": [
    "#### Check class balance"
   ]
  },
  {
   "cell_type": "code",
   "execution_count": 31,
   "id": "621270a9-5d84-41ba-bd43-a7178637de98",
   "metadata": {},
   "outputs": [
    {
     "data": {
      "text/plain": [
       "target\n",
       "2    1271\n",
       "1     149\n",
       "0     132\n",
       "Name: count, dtype: int64"
      ]
     },
     "execution_count": 31,
     "metadata": {},
     "output_type": "execute_result"
    }
   ],
   "source": [
    "y_train.value_counts()"
   ]
  },
  {
   "cell_type": "markdown",
   "id": "76d38bbd-f44d-4c22-a6b5-1a812ca42fb2",
   "metadata": {},
   "source": [
    "#### Check for correlation"
   ]
  },
  {
   "cell_type": "code",
   "execution_count": 32,
   "id": "16ca0b6b-5668-4681-8865-f3449b06fb71",
   "metadata": {},
   "outputs": [
    {
     "data": {
      "text/html": [
       "<div>\n",
       "<style scoped>\n",
       "    .dataframe tbody tr th:only-of-type {\n",
       "        vertical-align: middle;\n",
       "    }\n",
       "\n",
       "    .dataframe tbody tr th {\n",
       "        vertical-align: top;\n",
       "    }\n",
       "\n",
       "    .dataframe thead th {\n",
       "        text-align: right;\n",
       "    }\n",
       "</style>\n",
       "<table border=\"1\" class=\"dataframe\">\n",
       "  <thead>\n",
       "    <tr style=\"text-align: right;\">\n",
       "      <th></th>\n",
       "      <th>high</th>\n",
       "      <th>low</th>\n",
       "      <th>open</th>\n",
       "      <th>volumefrom</th>\n",
       "      <th>volumeto</th>\n",
       "      <th>close</th>\n",
       "      <th>MA20</th>\n",
       "      <th>RSI</th>\n",
       "      <th>MACD</th>\n",
       "      <th>MACD_signal</th>\n",
       "      <th>Lag_1</th>\n",
       "      <th>Lag_2</th>\n",
       "      <th>day</th>\n",
       "      <th>year</th>\n",
       "      <th>month</th>\n",
       "      <th>day_name</th>\n",
       "    </tr>\n",
       "  </thead>\n",
       "  <tbody>\n",
       "    <tr>\n",
       "      <th>high</th>\n",
       "      <td>1.000000</td>\n",
       "      <td>0.998330</td>\n",
       "      <td>0.999037</td>\n",
       "      <td>-0.109699</td>\n",
       "      <td>-0.027957</td>\n",
       "      <td>0.999007</td>\n",
       "      <td>0.991669</td>\n",
       "      <td>0.256612</td>\n",
       "      <td>0.342150</td>\n",
       "      <td>0.357106</td>\n",
       "      <td>0.999037</td>\n",
       "      <td>0.997616</td>\n",
       "      <td>0.062670</td>\n",
       "      <td>NaN</td>\n",
       "      <td>0.760617</td>\n",
       "      <td>0.018644</td>\n",
       "    </tr>\n",
       "    <tr>\n",
       "      <th>low</th>\n",
       "      <td>0.998330</td>\n",
       "      <td>1.000000</td>\n",
       "      <td>0.999003</td>\n",
       "      <td>-0.158045</td>\n",
       "      <td>-0.076690</td>\n",
       "      <td>0.999227</td>\n",
       "      <td>0.991212</td>\n",
       "      <td>0.259126</td>\n",
       "      <td>0.346389</td>\n",
       "      <td>0.360865</td>\n",
       "      <td>0.999003</td>\n",
       "      <td>0.997352</td>\n",
       "      <td>0.073701</td>\n",
       "      <td>NaN</td>\n",
       "      <td>0.763318</td>\n",
       "      <td>0.015466</td>\n",
       "    </tr>\n",
       "    <tr>\n",
       "      <th>open</th>\n",
       "      <td>0.999037</td>\n",
       "      <td>0.999003</td>\n",
       "      <td>1.000000</td>\n",
       "      <td>-0.133735</td>\n",
       "      <td>-0.052358</td>\n",
       "      <td>0.998320</td>\n",
       "      <td>0.992315</td>\n",
       "      <td>0.247175</td>\n",
       "      <td>0.342511</td>\n",
       "      <td>0.359458</td>\n",
       "      <td>1.000000</td>\n",
       "      <td>0.998315</td>\n",
       "      <td>0.068116</td>\n",
       "      <td>NaN</td>\n",
       "      <td>0.761900</td>\n",
       "      <td>0.015469</td>\n",
       "    </tr>\n",
       "    <tr>\n",
       "      <th>volumefrom</th>\n",
       "      <td>-0.109699</td>\n",
       "      <td>-0.158045</td>\n",
       "      <td>-0.133735</td>\n",
       "      <td>1.000000</td>\n",
       "      <td>0.993088</td>\n",
       "      <td>-0.136974</td>\n",
       "      <td>-0.128394</td>\n",
       "      <td>-0.027103</td>\n",
       "      <td>-0.082509</td>\n",
       "      <td>-0.077061</td>\n",
       "      <td>-0.133735</td>\n",
       "      <td>-0.130608</td>\n",
       "      <td>-0.188004</td>\n",
       "      <td>NaN</td>\n",
       "      <td>-0.119016</td>\n",
       "      <td>0.062558</td>\n",
       "    </tr>\n",
       "    <tr>\n",
       "      <th>volumeto</th>\n",
       "      <td>-0.027957</td>\n",
       "      <td>-0.076690</td>\n",
       "      <td>-0.052358</td>\n",
       "      <td>0.993088</td>\n",
       "      <td>1.000000</td>\n",
       "      <td>-0.055514</td>\n",
       "      <td>-0.049536</td>\n",
       "      <td>0.010488</td>\n",
       "      <td>-0.035476</td>\n",
       "      <td>-0.029773</td>\n",
       "      <td>-0.052358</td>\n",
       "      <td>-0.049758</td>\n",
       "      <td>-0.174652</td>\n",
       "      <td>NaN</td>\n",
       "      <td>-0.066571</td>\n",
       "      <td>0.067634</td>\n",
       "    </tr>\n",
       "  </tbody>\n",
       "</table>\n",
       "</div>"
      ],
      "text/plain": [
       "                high       low      open  volumefrom  volumeto     close  \\\n",
       "high        1.000000  0.998330  0.999037   -0.109699 -0.027957  0.999007   \n",
       "low         0.998330  1.000000  0.999003   -0.158045 -0.076690  0.999227   \n",
       "open        0.999037  0.999003  1.000000   -0.133735 -0.052358  0.998320   \n",
       "volumefrom -0.109699 -0.158045 -0.133735    1.000000  0.993088 -0.136974   \n",
       "volumeto   -0.027957 -0.076690 -0.052358    0.993088  1.000000 -0.055514   \n",
       "\n",
       "                MA20       RSI      MACD  MACD_signal     Lag_1     Lag_2  \\\n",
       "high        0.991669  0.256612  0.342150     0.357106  0.999037  0.997616   \n",
       "low         0.991212  0.259126  0.346389     0.360865  0.999003  0.997352   \n",
       "open        0.992315  0.247175  0.342511     0.359458  1.000000  0.998315   \n",
       "volumefrom -0.128394 -0.027103 -0.082509    -0.077061 -0.133735 -0.130608   \n",
       "volumeto   -0.049536  0.010488 -0.035476    -0.029773 -0.052358 -0.049758   \n",
       "\n",
       "                 day  year     month  day_name  \n",
       "high        0.062670   NaN  0.760617  0.018644  \n",
       "low         0.073701   NaN  0.763318  0.015466  \n",
       "open        0.068116   NaN  0.761900  0.015469  \n",
       "volumefrom -0.188004   NaN -0.119016  0.062558  \n",
       "volumeto   -0.174652   NaN -0.066571  0.067634  "
      ]
     },
     "execution_count": 32,
     "metadata": {},
     "output_type": "execute_result"
    }
   ],
   "source": [
    "x.corr().head()"
   ]
  },
  {
   "cell_type": "markdown",
   "id": "dcef2ae3-61c8-4cc7-b2e9-90bdd5cb527a",
   "metadata": {},
   "source": [
    "#### Combine variance inflation factor with correlation matrix to detect which features to select"
   ]
  },
  {
   "cell_type": "code",
   "execution_count": 33,
   "id": "a6d5652d-77e2-41b1-bcc5-4cb152ef7168",
   "metadata": {},
   "outputs": [],
   "source": [
    "from statsmodels.stats.outliers_influence import variance_inflation_factor"
   ]
  },
  {
   "cell_type": "code",
   "execution_count": 35,
   "id": "0e433671-1c07-4e14-a801-0387f32a8816",
   "metadata": {},
   "outputs": [
    {
     "data": {
      "text/plain": [
       "high           0\n",
       "low            0\n",
       "open           0\n",
       "volumefrom     0\n",
       "volumeto       0\n",
       "close          0\n",
       "MA20           0\n",
       "RSI            0\n",
       "MACD           0\n",
       "MACD_signal    0\n",
       "Lag_1          0\n",
       "Lag_2          0\n",
       "day            0\n",
       "year           0\n",
       "month          0\n",
       "day_name       0\n",
       "dtype: int64"
      ]
     },
     "execution_count": 35,
     "metadata": {},
     "output_type": "execute_result"
    }
   ],
   "source": [
    "x.isna().sum()"
   ]
  },
  {
   "cell_type": "code",
   "execution_count": 36,
   "id": "db49531d-f5ac-468b-a449-fe8ed4a23da4",
   "metadata": {},
   "outputs": [],
   "source": [
    "vif = variance_inflation_factor\n",
    "df = pd.DataFrame()\n",
    "df[\"Feature\"] = x.columns\n",
    "df['VIF'] = [vif(x, a) for a in range(x.shape[1]) ]"
   ]
  },
  {
   "cell_type": "code",
   "execution_count": 37,
   "id": "28504b14-d72f-4a37-b5de-fbcea0b0d371",
   "metadata": {},
   "outputs": [
    {
     "data": {
      "text/html": [
       "<div>\n",
       "<style scoped>\n",
       "    .dataframe tbody tr th:only-of-type {\n",
       "        vertical-align: middle;\n",
       "    }\n",
       "\n",
       "    .dataframe tbody tr th {\n",
       "        vertical-align: top;\n",
       "    }\n",
       "\n",
       "    .dataframe thead th {\n",
       "        text-align: right;\n",
       "    }\n",
       "</style>\n",
       "<table border=\"1\" class=\"dataframe\">\n",
       "  <thead>\n",
       "    <tr style=\"text-align: right;\">\n",
       "      <th></th>\n",
       "      <th>Feature</th>\n",
       "      <th>VIF</th>\n",
       "    </tr>\n",
       "  </thead>\n",
       "  <tbody>\n",
       "    <tr>\n",
       "      <th>0</th>\n",
       "      <td>high</td>\n",
       "      <td>2387.661599</td>\n",
       "    </tr>\n",
       "    <tr>\n",
       "      <th>1</th>\n",
       "      <td>low</td>\n",
       "      <td>2605.260278</td>\n",
       "    </tr>\n",
       "    <tr>\n",
       "      <th>2</th>\n",
       "      <td>open</td>\n",
       "      <td>inf</td>\n",
       "    </tr>\n",
       "    <tr>\n",
       "      <th>3</th>\n",
       "      <td>volumefrom</td>\n",
       "      <td>158.471209</td>\n",
       "    </tr>\n",
       "    <tr>\n",
       "      <th>4</th>\n",
       "      <td>volumeto</td>\n",
       "      <td>156.798592</td>\n",
       "    </tr>\n",
       "    <tr>\n",
       "      <th>5</th>\n",
       "      <td>close</td>\n",
       "      <td>3401.035302</td>\n",
       "    </tr>\n",
       "    <tr>\n",
       "      <th>6</th>\n",
       "      <td>MA20</td>\n",
       "      <td>6044.569517</td>\n",
       "    </tr>\n",
       "    <tr>\n",
       "      <th>7</th>\n",
       "      <td>RSI</td>\n",
       "      <td>6.235004</td>\n",
       "    </tr>\n",
       "    <tr>\n",
       "      <th>8</th>\n",
       "      <td>MACD</td>\n",
       "      <td>547.313140</td>\n",
       "    </tr>\n",
       "    <tr>\n",
       "      <th>9</th>\n",
       "      <td>MACD_signal</td>\n",
       "      <td>316.585624</td>\n",
       "    </tr>\n",
       "    <tr>\n",
       "      <th>10</th>\n",
       "      <td>Lag_1</td>\n",
       "      <td>inf</td>\n",
       "    </tr>\n",
       "    <tr>\n",
       "      <th>11</th>\n",
       "      <td>Lag_2</td>\n",
       "      <td>865.253574</td>\n",
       "    </tr>\n",
       "    <tr>\n",
       "      <th>12</th>\n",
       "      <td>day</td>\n",
       "      <td>1.427951</td>\n",
       "    </tr>\n",
       "    <tr>\n",
       "      <th>13</th>\n",
       "      <td>year</td>\n",
       "      <td>397.809617</td>\n",
       "    </tr>\n",
       "    <tr>\n",
       "      <th>14</th>\n",
       "      <td>month</td>\n",
       "      <td>3.344520</td>\n",
       "    </tr>\n",
       "    <tr>\n",
       "      <th>15</th>\n",
       "      <td>day_name</td>\n",
       "      <td>1.032687</td>\n",
       "    </tr>\n",
       "  </tbody>\n",
       "</table>\n",
       "</div>"
      ],
      "text/plain": [
       "        Feature          VIF\n",
       "0          high  2387.661599\n",
       "1           low  2605.260278\n",
       "2          open          inf\n",
       "3    volumefrom   158.471209\n",
       "4      volumeto   156.798592\n",
       "5         close  3401.035302\n",
       "6          MA20  6044.569517\n",
       "7           RSI     6.235004\n",
       "8          MACD   547.313140\n",
       "9   MACD_signal   316.585624\n",
       "10        Lag_1          inf\n",
       "11        Lag_2   865.253574\n",
       "12          day     1.427951\n",
       "13         year   397.809617\n",
       "14        month     3.344520\n",
       "15     day_name     1.032687"
      ]
     },
     "execution_count": 37,
     "metadata": {},
     "output_type": "execute_result"
    }
   ],
   "source": [
    "df"
   ]
  },
  {
   "cell_type": "raw",
   "id": "3773e80b-2afe-41fc-b3fe-b23f289f3790",
   "metadata": {},
   "source": [
    "From the analysis above we would drop the following features: \n",
    "high, open, Lag_1, MA20, close as they correlate highly \n"
   ]
  },
  {
   "cell_type": "markdown",
   "id": "5fca21c5-088b-470a-9892-e9a8123805a6",
   "metadata": {},
   "source": [
    "#### Drop unwanted features and rebuild model"
   ]
  },
  {
   "cell_type": "code",
   "execution_count": 39,
   "id": "0a2c9810-c5f8-4697-a265-78a31e4d723b",
   "metadata": {},
   "outputs": [],
   "source": [
    "x1 = x.drop(['high', 'open', 'Lag_1', 'MA20',  'close', 'year'], axis = 1)"
   ]
  },
  {
   "cell_type": "code",
   "execution_count": 40,
   "id": "48dbb3f9-d1e6-4b13-9229-cbeba03c14e0",
   "metadata": {},
   "outputs": [
    {
     "data": {
      "text/html": [
       "<div>\n",
       "<style scoped>\n",
       "    .dataframe tbody tr th:only-of-type {\n",
       "        vertical-align: middle;\n",
       "    }\n",
       "\n",
       "    .dataframe tbody tr th {\n",
       "        vertical-align: top;\n",
       "    }\n",
       "\n",
       "    .dataframe thead th {\n",
       "        text-align: right;\n",
       "    }\n",
       "</style>\n",
       "<table border=\"1\" class=\"dataframe\">\n",
       "  <thead>\n",
       "    <tr style=\"text-align: right;\">\n",
       "      <th></th>\n",
       "      <th>low</th>\n",
       "      <th>volumefrom</th>\n",
       "      <th>volumeto</th>\n",
       "      <th>RSI</th>\n",
       "      <th>MACD</th>\n",
       "      <th>MACD_signal</th>\n",
       "      <th>Lag_2</th>\n",
       "      <th>day</th>\n",
       "      <th>month</th>\n",
       "      <th>day_name</th>\n",
       "    </tr>\n",
       "  </thead>\n",
       "  <tbody>\n",
       "    <tr>\n",
       "      <th>low</th>\n",
       "      <td>1.000000</td>\n",
       "      <td>-0.158045</td>\n",
       "      <td>-0.076690</td>\n",
       "      <td>0.259126</td>\n",
       "      <td>0.346389</td>\n",
       "      <td>0.360865</td>\n",
       "      <td>0.997352</td>\n",
       "      <td>0.073701</td>\n",
       "      <td>0.763318</td>\n",
       "      <td>0.015466</td>\n",
       "    </tr>\n",
       "    <tr>\n",
       "      <th>volumefrom</th>\n",
       "      <td>-0.158045</td>\n",
       "      <td>1.000000</td>\n",
       "      <td>0.993088</td>\n",
       "      <td>-0.027103</td>\n",
       "      <td>-0.082509</td>\n",
       "      <td>-0.077061</td>\n",
       "      <td>-0.130608</td>\n",
       "      <td>-0.188004</td>\n",
       "      <td>-0.119016</td>\n",
       "      <td>0.062558</td>\n",
       "    </tr>\n",
       "    <tr>\n",
       "      <th>volumeto</th>\n",
       "      <td>-0.076690</td>\n",
       "      <td>0.993088</td>\n",
       "      <td>1.000000</td>\n",
       "      <td>0.010488</td>\n",
       "      <td>-0.035476</td>\n",
       "      <td>-0.029773</td>\n",
       "      <td>-0.049758</td>\n",
       "      <td>-0.174652</td>\n",
       "      <td>-0.066571</td>\n",
       "      <td>0.067634</td>\n",
       "    </tr>\n",
       "    <tr>\n",
       "      <th>RSI</th>\n",
       "      <td>0.259126</td>\n",
       "      <td>-0.027103</td>\n",
       "      <td>0.010488</td>\n",
       "      <td>1.000000</td>\n",
       "      <td>0.791006</td>\n",
       "      <td>0.640680</td>\n",
       "      <td>0.230864</td>\n",
       "      <td>0.023053</td>\n",
       "      <td>0.180092</td>\n",
       "      <td>0.105377</td>\n",
       "    </tr>\n",
       "    <tr>\n",
       "      <th>MACD</th>\n",
       "      <td>0.346389</td>\n",
       "      <td>-0.082509</td>\n",
       "      <td>-0.035476</td>\n",
       "      <td>0.791006</td>\n",
       "      <td>1.000000</td>\n",
       "      <td>0.943092</td>\n",
       "      <td>0.337097</td>\n",
       "      <td>0.074651</td>\n",
       "      <td>0.240320</td>\n",
       "      <td>0.138252</td>\n",
       "    </tr>\n",
       "    <tr>\n",
       "      <th>MACD_signal</th>\n",
       "      <td>0.360865</td>\n",
       "      <td>-0.077061</td>\n",
       "      <td>-0.029773</td>\n",
       "      <td>0.640680</td>\n",
       "      <td>0.943092</td>\n",
       "      <td>1.000000</td>\n",
       "      <td>0.359646</td>\n",
       "      <td>0.073649</td>\n",
       "      <td>0.246323</td>\n",
       "      <td>0.123118</td>\n",
       "    </tr>\n",
       "    <tr>\n",
       "      <th>Lag_2</th>\n",
       "      <td>0.997352</td>\n",
       "      <td>-0.130608</td>\n",
       "      <td>-0.049758</td>\n",
       "      <td>0.230864</td>\n",
       "      <td>0.337097</td>\n",
       "      <td>0.359646</td>\n",
       "      <td>1.000000</td>\n",
       "      <td>0.067661</td>\n",
       "      <td>0.760883</td>\n",
       "      <td>0.013799</td>\n",
       "    </tr>\n",
       "    <tr>\n",
       "      <th>day</th>\n",
       "      <td>0.073701</td>\n",
       "      <td>-0.188004</td>\n",
       "      <td>-0.174652</td>\n",
       "      <td>0.023053</td>\n",
       "      <td>0.074651</td>\n",
       "      <td>0.073649</td>\n",
       "      <td>0.067661</td>\n",
       "      <td>1.000000</td>\n",
       "      <td>-0.262042</td>\n",
       "      <td>-0.023284</td>\n",
       "    </tr>\n",
       "    <tr>\n",
       "      <th>month</th>\n",
       "      <td>0.763318</td>\n",
       "      <td>-0.119016</td>\n",
       "      <td>-0.066571</td>\n",
       "      <td>0.180092</td>\n",
       "      <td>0.240320</td>\n",
       "      <td>0.246323</td>\n",
       "      <td>0.760883</td>\n",
       "      <td>-0.262042</td>\n",
       "      <td>1.000000</td>\n",
       "      <td>0.010173</td>\n",
       "    </tr>\n",
       "    <tr>\n",
       "      <th>day_name</th>\n",
       "      <td>0.015466</td>\n",
       "      <td>0.062558</td>\n",
       "      <td>0.067634</td>\n",
       "      <td>0.105377</td>\n",
       "      <td>0.138252</td>\n",
       "      <td>0.123118</td>\n",
       "      <td>0.013799</td>\n",
       "      <td>-0.023284</td>\n",
       "      <td>0.010173</td>\n",
       "      <td>1.000000</td>\n",
       "    </tr>\n",
       "  </tbody>\n",
       "</table>\n",
       "</div>"
      ],
      "text/plain": [
       "                  low  volumefrom  volumeto       RSI      MACD  MACD_signal  \\\n",
       "low          1.000000   -0.158045 -0.076690  0.259126  0.346389     0.360865   \n",
       "volumefrom  -0.158045    1.000000  0.993088 -0.027103 -0.082509    -0.077061   \n",
       "volumeto    -0.076690    0.993088  1.000000  0.010488 -0.035476    -0.029773   \n",
       "RSI          0.259126   -0.027103  0.010488  1.000000  0.791006     0.640680   \n",
       "MACD         0.346389   -0.082509 -0.035476  0.791006  1.000000     0.943092   \n",
       "MACD_signal  0.360865   -0.077061 -0.029773  0.640680  0.943092     1.000000   \n",
       "Lag_2        0.997352   -0.130608 -0.049758  0.230864  0.337097     0.359646   \n",
       "day          0.073701   -0.188004 -0.174652  0.023053  0.074651     0.073649   \n",
       "month        0.763318   -0.119016 -0.066571  0.180092  0.240320     0.246323   \n",
       "day_name     0.015466    0.062558  0.067634  0.105377  0.138252     0.123118   \n",
       "\n",
       "                Lag_2       day     month  day_name  \n",
       "low          0.997352  0.073701  0.763318  0.015466  \n",
       "volumefrom  -0.130608 -0.188004 -0.119016  0.062558  \n",
       "volumeto    -0.049758 -0.174652 -0.066571  0.067634  \n",
       "RSI          0.230864  0.023053  0.180092  0.105377  \n",
       "MACD         0.337097  0.074651  0.240320  0.138252  \n",
       "MACD_signal  0.359646  0.073649  0.246323  0.123118  \n",
       "Lag_2        1.000000  0.067661  0.760883  0.013799  \n",
       "day          0.067661  1.000000 -0.262042 -0.023284  \n",
       "month        0.760883 -0.262042  1.000000  0.010173  \n",
       "day_name     0.013799 -0.023284  0.010173  1.000000  "
      ]
     },
     "execution_count": 40,
     "metadata": {},
     "output_type": "execute_result"
    }
   ],
   "source": [
    "x1.corr()"
   ]
  },
  {
   "cell_type": "code",
   "execution_count": 41,
   "id": "e3b906ee-e88a-4935-b25b-72b62cfdd7ca",
   "metadata": {},
   "outputs": [],
   "source": [
    "x_train1, x_test1, y_train1, y_test1 = train_test_split(x, y, train_size = 0.8, random_state = 69)"
   ]
  },
  {
   "cell_type": "code",
   "execution_count": 42,
   "id": "dbcb2775-ca2c-48e7-b643-768181c80d8f",
   "metadata": {},
   "outputs": [],
   "source": [
    "modelXGB1 = XGBClassifier(n_estimators=20,\n",
    "                       max_depth = 5,\n",
    "                        learning_rate = 0.008 ,\n",
    "                         n_jobs = 10,\n",
    "                        )"
   ]
  },
  {
   "cell_type": "code",
   "execution_count": 43,
   "id": "e7dd7c3f-3e1d-4eb0-96b2-27770d5f6654",
   "metadata": {},
   "outputs": [
    {
     "data": {
      "text/html": [
       "<style>#sk-container-id-3 {color: black;background-color: white;}#sk-container-id-3 pre{padding: 0;}#sk-container-id-3 div.sk-toggleable {background-color: white;}#sk-container-id-3 label.sk-toggleable__label {cursor: pointer;display: block;width: 100%;margin-bottom: 0;padding: 0.3em;box-sizing: border-box;text-align: center;}#sk-container-id-3 label.sk-toggleable__label-arrow:before {content: \"▸\";float: left;margin-right: 0.25em;color: #696969;}#sk-container-id-3 label.sk-toggleable__label-arrow:hover:before {color: black;}#sk-container-id-3 div.sk-estimator:hover label.sk-toggleable__label-arrow:before {color: black;}#sk-container-id-3 div.sk-toggleable__content {max-height: 0;max-width: 0;overflow: hidden;text-align: left;background-color: #f0f8ff;}#sk-container-id-3 div.sk-toggleable__content pre {margin: 0.2em;color: black;border-radius: 0.25em;background-color: #f0f8ff;}#sk-container-id-3 input.sk-toggleable__control:checked~div.sk-toggleable__content {max-height: 200px;max-width: 100%;overflow: auto;}#sk-container-id-3 input.sk-toggleable__control:checked~label.sk-toggleable__label-arrow:before {content: \"▾\";}#sk-container-id-3 div.sk-estimator input.sk-toggleable__control:checked~label.sk-toggleable__label {background-color: #d4ebff;}#sk-container-id-3 div.sk-label input.sk-toggleable__control:checked~label.sk-toggleable__label {background-color: #d4ebff;}#sk-container-id-3 input.sk-hidden--visually {border: 0;clip: rect(1px 1px 1px 1px);clip: rect(1px, 1px, 1px, 1px);height: 1px;margin: -1px;overflow: hidden;padding: 0;position: absolute;width: 1px;}#sk-container-id-3 div.sk-estimator {font-family: monospace;background-color: #f0f8ff;border: 1px dotted black;border-radius: 0.25em;box-sizing: border-box;margin-bottom: 0.5em;}#sk-container-id-3 div.sk-estimator:hover {background-color: #d4ebff;}#sk-container-id-3 div.sk-parallel-item::after {content: \"\";width: 100%;border-bottom: 1px solid gray;flex-grow: 1;}#sk-container-id-3 div.sk-label:hover label.sk-toggleable__label {background-color: #d4ebff;}#sk-container-id-3 div.sk-serial::before {content: \"\";position: absolute;border-left: 1px solid gray;box-sizing: border-box;top: 0;bottom: 0;left: 50%;z-index: 0;}#sk-container-id-3 div.sk-serial {display: flex;flex-direction: column;align-items: center;background-color: white;padding-right: 0.2em;padding-left: 0.2em;position: relative;}#sk-container-id-3 div.sk-item {position: relative;z-index: 1;}#sk-container-id-3 div.sk-parallel {display: flex;align-items: stretch;justify-content: center;background-color: white;position: relative;}#sk-container-id-3 div.sk-item::before, #sk-container-id-3 div.sk-parallel-item::before {content: \"\";position: absolute;border-left: 1px solid gray;box-sizing: border-box;top: 0;bottom: 0;left: 50%;z-index: -1;}#sk-container-id-3 div.sk-parallel-item {display: flex;flex-direction: column;z-index: 1;position: relative;background-color: white;}#sk-container-id-3 div.sk-parallel-item:first-child::after {align-self: flex-end;width: 50%;}#sk-container-id-3 div.sk-parallel-item:last-child::after {align-self: flex-start;width: 50%;}#sk-container-id-3 div.sk-parallel-item:only-child::after {width: 0;}#sk-container-id-3 div.sk-dashed-wrapped {border: 1px dashed gray;margin: 0 0.4em 0.5em 0.4em;box-sizing: border-box;padding-bottom: 0.4em;background-color: white;}#sk-container-id-3 div.sk-label label {font-family: monospace;font-weight: bold;display: inline-block;line-height: 1.2em;}#sk-container-id-3 div.sk-label-container {text-align: center;}#sk-container-id-3 div.sk-container {/* jupyter's `normalize.less` sets `[hidden] { display: none; }` but bootstrap.min.css set `[hidden] { display: none !important; }` so we also need the `!important` here to be able to override the default hidden behavior on the sphinx rendered scikit-learn.org. See: https://github.com/scikit-learn/scikit-learn/issues/21755 */display: inline-block !important;position: relative;}#sk-container-id-3 div.sk-text-repr-fallback {display: none;}</style><div id=\"sk-container-id-3\" class=\"sk-top-container\"><div class=\"sk-text-repr-fallback\"><pre>XGBClassifier(base_score=None, booster=None, callbacks=None,\n",
       "              colsample_bylevel=None, colsample_bynode=None,\n",
       "              colsample_bytree=None, device=None, early_stopping_rounds=None,\n",
       "              enable_categorical=False, eval_metric=None, feature_types=None,\n",
       "              feature_weights=None, gamma=None, grow_policy=None,\n",
       "              importance_type=None, interaction_constraints=None,\n",
       "              learning_rate=0.008, max_bin=None, max_cat_threshold=None,\n",
       "              max_cat_to_onehot=None, max_delta_step=None, max_depth=5,\n",
       "              max_leaves=None, min_child_weight=None, missing=nan,\n",
       "              monotone_constraints=None, multi_strategy=None, n_estimators=20,\n",
       "              n_jobs=10, num_parallel_tree=None, ...)</pre><b>In a Jupyter environment, please rerun this cell to show the HTML representation or trust the notebook. <br />On GitHub, the HTML representation is unable to render, please try loading this page with nbviewer.org.</b></div><div class=\"sk-container\" hidden><div class=\"sk-item\"><div class=\"sk-estimator sk-toggleable\"><input class=\"sk-toggleable__control sk-hidden--visually\" id=\"sk-estimator-id-3\" type=\"checkbox\" checked><label for=\"sk-estimator-id-3\" class=\"sk-toggleable__label sk-toggleable__label-arrow\">XGBClassifier</label><div class=\"sk-toggleable__content\"><pre>XGBClassifier(base_score=None, booster=None, callbacks=None,\n",
       "              colsample_bylevel=None, colsample_bynode=None,\n",
       "              colsample_bytree=None, device=None, early_stopping_rounds=None,\n",
       "              enable_categorical=False, eval_metric=None, feature_types=None,\n",
       "              feature_weights=None, gamma=None, grow_policy=None,\n",
       "              importance_type=None, interaction_constraints=None,\n",
       "              learning_rate=0.008, max_bin=None, max_cat_threshold=None,\n",
       "              max_cat_to_onehot=None, max_delta_step=None, max_depth=5,\n",
       "              max_leaves=None, min_child_weight=None, missing=nan,\n",
       "              monotone_constraints=None, multi_strategy=None, n_estimators=20,\n",
       "              n_jobs=10, num_parallel_tree=None, ...)</pre></div></div></div></div></div>"
      ],
      "text/plain": [
       "XGBClassifier(base_score=None, booster=None, callbacks=None,\n",
       "              colsample_bylevel=None, colsample_bynode=None,\n",
       "              colsample_bytree=None, device=None, early_stopping_rounds=None,\n",
       "              enable_categorical=False, eval_metric=None, feature_types=None,\n",
       "              feature_weights=None, gamma=None, grow_policy=None,\n",
       "              importance_type=None, interaction_constraints=None,\n",
       "              learning_rate=0.008, max_bin=None, max_cat_threshold=None,\n",
       "              max_cat_to_onehot=None, max_delta_step=None, max_depth=5,\n",
       "              max_leaves=None, min_child_weight=None, missing=nan,\n",
       "              monotone_constraints=None, multi_strategy=None, n_estimators=20,\n",
       "              n_jobs=10, num_parallel_tree=None, ...)"
      ]
     },
     "execution_count": 43,
     "metadata": {},
     "output_type": "execute_result"
    }
   ],
   "source": [
    "modelXGB1.fit(x_train1,y_train1)"
   ]
  },
  {
   "cell_type": "code",
   "execution_count": 44,
   "id": "0035c7e4-c6a6-4a06-93a2-f40bd7ffdc7c",
   "metadata": {},
   "outputs": [
    {
     "data": {
      "text/plain": [
       "Index(['high', 'low', 'open', 'volumefrom', 'volumeto', 'close', 'MA20', 'RSI',\n",
       "       'MACD', 'MACD_signal', 'Lag_1', 'Lag_2', 'day', 'year', 'month',\n",
       "       'day_name'],\n",
       "      dtype='object')"
      ]
     },
     "execution_count": 44,
     "metadata": {},
     "output_type": "execute_result"
    }
   ],
   "source": [
    "x_train1.columns"
   ]
  },
  {
   "cell_type": "code",
   "execution_count": 45,
   "id": "354f9fa7-b1d7-461f-bad2-e032c91dd3a2",
   "metadata": {},
   "outputs": [
    {
     "data": {
      "text/plain": [
       "(0.8576030927835051, 0.8195876288659794)"
      ]
     },
     "execution_count": 45,
     "metadata": {},
     "output_type": "execute_result"
    }
   ],
   "source": [
    "modelXGB1.score(x_train1,y_train1 ), modelXGB1.score(x_test1,y_test1 )"
   ]
  },
  {
   "cell_type": "markdown",
   "id": "e33fe059-5337-487e-b689-4f252521a26e",
   "metadata": {},
   "source": [
    "#### Output feature importances"
   ]
  },
  {
   "cell_type": "code",
   "execution_count": 46,
   "id": "75dd8b3b-9fc1-46c3-8a0a-f765e627cbd6",
   "metadata": {},
   "outputs": [
    {
     "name": "stdout",
     "output_type": "stream",
     "text": [
      "        Feature  Importance\n",
      "3    volumefrom    0.092265\n",
      "4      volumeto    0.092074\n",
      "9   MACD_signal    0.082840\n",
      "8          MACD    0.082417\n",
      "7           RSI    0.082368\n",
      "6          MA20    0.078834\n",
      "5         close    0.074887\n",
      "1           low    0.067973\n",
      "11        Lag_2    0.067450\n",
      "0          high    0.063481\n",
      "2          open    0.061746\n",
      "10        Lag_1    0.061337\n",
      "12          day    0.054246\n",
      "15     day_name    0.026666\n",
      "14        month    0.011414\n",
      "13         year    0.000000\n"
     ]
    }
   ],
   "source": [
    "from sklearn.ensemble import RandomForestClassifier\n",
    "\n",
    "modelRFC = RandomForestClassifier()\n",
    "modelRFC.fit(x_train1, y_train1)\n",
    "\n",
    "importances = modelRFC.feature_importances_\n",
    "\n",
    "feature_names = x_train1.columns\n",
    "importance_df = pd.DataFrame({\n",
    "    'Feature': feature_names,\n",
    "    'Importance': importances\n",
    "}).sort_values(by='Importance', ascending=False)\n",
    "\n",
    "print(importance_df)\n"
   ]
  },
  {
   "cell_type": "code",
   "execution_count": 47,
   "id": "f5cec91e-4d1b-43ac-a893-ec18a3fa573e",
   "metadata": {},
   "outputs": [
    {
     "data": {
      "text/plain": [
       "Index(['high', 'low', 'open', 'volumefrom', 'volumeto', 'close', 'MA20', 'RSI',\n",
       "       'MACD', 'MACD_signal', 'Lag_1', 'Lag_2', 'day', 'year', 'month',\n",
       "       'day_name'],\n",
       "      dtype='object')"
      ]
     },
     "execution_count": 47,
     "metadata": {},
     "output_type": "execute_result"
    }
   ],
   "source": [
    "x_train1.columns"
   ]
  },
  {
   "cell_type": "code",
   "execution_count": 48,
   "id": "f788b2d5-f723-480e-b2de-8b867b148901",
   "metadata": {},
   "outputs": [
    {
     "data": {
      "text/plain": [
       "(1.0, 0.8376288659793815)"
      ]
     },
     "execution_count": 48,
     "metadata": {},
     "output_type": "execute_result"
    }
   ],
   "source": [
    "modelRFC.score(x_train1, y_train1), modelRFC.score(x_test1, y_test1)"
   ]
  },
  {
   "cell_type": "markdown",
   "id": "f5df3ca6-242f-46c0-85c5-8a3638479255",
   "metadata": {},
   "source": [
    "## Evaluate our best performing model \"modelXGB\"\n",
    "\n",
    "Check model performance using confusion matrices and other performance evaluation methods"
   ]
  },
  {
   "cell_type": "code",
   "execution_count": 49,
   "id": "f4da2d95-1aa0-495c-8fa7-cd7d7e92d52a",
   "metadata": {},
   "outputs": [
    {
     "data": {
      "text/plain": [
       "target\n",
       "2    333\n",
       "1     38\n",
       "0     17\n",
       "Name: count, dtype: int64"
      ]
     },
     "execution_count": 49,
     "metadata": {},
     "output_type": "execute_result"
    }
   ],
   "source": [
    "y_test.value_counts()"
   ]
  },
  {
   "cell_type": "code",
   "execution_count": 54,
   "id": "07b6b765-2c5e-4860-8c32-16ee57a9acda",
   "metadata": {},
   "outputs": [
    {
     "data": {
      "image/png": "[encoded data removed]",
      "text/plain": [
       "<Figure size 640x480 with 2 Axes>"
      ]
     },
     "metadata": {},
     "output_type": "display_data"
    }
   ],
   "source": [
    "from sklearn.metrics import confusion_matrix, ConfusionMatrixDisplay\n",
    "import matplotlib.pyplot as plt\n",
    "\n",
    "# Predict\n",
    "y_pred = modelXGB.predict(x_test)\n",
    "\n",
    "# Plot confusion matrix\n",
    "cm = confusion_matrix(y_test, y_pred)\n",
    "disp = ConfusionMatrixDisplay(confusion_matrix=cm)\n",
    "disp.plot(cmap='coolwarm')\n",
    "plt.title(\"Confusion Matrix\")\n",
    "plt.show()\n"
   ]
  },
  {
   "cell_type": "markdown",
   "id": "3a275548-e1b9-479a-9f07-eb67ae15cf1f",
   "metadata": {},
   "source": [
    "#### Using crosss validation"
   ]
  },
  {
   "cell_type": "code",
   "execution_count": 58,
   "id": "0dac60c2-9270-4b18-a932-88df5d70c795",
   "metadata": {},
   "outputs": [
    {
     "name": "stdout",
     "output_type": "stream",
     "text": [
      "Cross-Validation Accuracy Scores: [0.40979381 0.45360825 0.58505155 0.40463918 0.82731959]\n",
      "Mean CV Score: 0.5361\n"
     ]
    }
   ],
   "source": [
    "from sklearn.model_selection import cross_val_score\n",
    "\n",
    "scores = cross_val_score(modelXGB, x, y, cv=5, scoring='accuracy')\n",
    "print(f\"Cross-Validation Accuracy Scores: {scores}\")\n",
    "print(f\"Mean CV Score: {scores.mean():.4f}\")\n"
   ]
  },
  {
   "cell_type": "markdown",
   "id": "b7db2b4c-e8da-4e62-ad15-61311fabee02",
   "metadata": {},
   "source": [
    "####  Permutation Feature Importance"
   ]
  },
  {
   "cell_type": "code",
   "execution_count": 60,
   "id": "2d0423ed-8617-41e8-8c49-b4157f60007a",
   "metadata": {},
   "outputs": [
    {
     "name": "stdout",
     "output_type": "stream",
     "text": [
      "volumefrom: 0.0111\n",
      "RSI: 0.0082\n",
      "MACD: 0.0054\n",
      "volumeto: 0.0041\n",
      "day_name: 0.0018\n",
      "MACD_signal: 0.0018\n",
      "month: 0.0000\n",
      "year: 0.0000\n",
      "Lag_2: 0.0000\n",
      "Lag_1: 0.0000\n",
      "MA20: 0.0000\n",
      "close: 0.0000\n",
      "open: 0.0000\n",
      "low: 0.0000\n",
      "high: 0.0000\n",
      "day: -0.0021\n"
     ]
    }
   ],
   "source": [
    "from sklearn.inspection import permutation_importance\n",
    "\n",
    "result = permutation_importance(modelXGB, x_test, y_test, n_repeats=10, random_state=42)\n",
    "\n",
    "for i in result.importances_mean.argsort()[::-1]:\n",
    "    print(f\"{x_test.columns[i]}: {result.importances_mean[i]:.4f}\")\n"
   ]
  },
  {
   "cell_type": "code",
   "execution_count": null,
   "id": "c257710d-a149-4c9b-aa88-47cac2c1d709",
   "metadata": {},
   "outputs": [],
   "source": []
  },
  {
   "cell_type": "markdown",
   "id": "f8da2197-b39b-4470-a17b-6a872535140d",
   "metadata": {},
   "source": [
    "#### 🧠 Pros and Cons of Future Return Strategy\n",
    "Pros:\n",
    "    \n",
    "    Easy to implement\n",
    "    \n",
    "    Directly models the outcome you care about (profit)\n",
    "\n",
    "Cons:\n",
    "    \n",
    "    Can easily cause data leakage if future info isn't dropped\n",
    "    \n",
    "    Labels may be noisy if volatility is high or time horizon (like 3 hours) is too short\n",
    "    \n"
   ]
  },
  {
   "cell_type": "code",
   "execution_count": 62,
   "id": "d6b8ebed-8cac-4c65-ae11-c1ebe76455ba",
   "metadata": {},
   "outputs": [
    {
     "data": {
      "text/plain": [
       "(0.9568298969072165, 0.8505154639175257)"
      ]
     },
     "execution_count": 62,
     "metadata": {},
     "output_type": "execute_result"
    }
   ],
   "source": [
    "modelXGB.score(x_train, y_train), modelXGB.score(x_test, y_test)"
   ]
  },
  {
   "cell_type": "code",
   "execution_count": null,
   "id": "d986baa6-adfc-417a-898b-5411f85da8ac",
   "metadata": {},
   "outputs": [],
   "source": []
  },
  {
   "cell_type": "code",
   "execution_count": null,
   "id": "128d719a-0239-4a27-8366-5fba38c42c0e",
   "metadata": {},
   "outputs": [],
   "source": []
  }
 ],
 "metadata": {
  "kernelspec": {
   "display_name": "Python 3 (ipykernel)",
   "language": "python",
   "name": "python3"
  },
  "language_info": {
   "codemirror_mode": {
    "name": "ipython",
    "version": 3
   },
   "file_extension": ".py",
   "mimetype": "text/x-python",
   "name": "python",
   "nbconvert_exporter": "python",
   "pygments_lexer": "ipython3",
   "version": "3.11.7"
  },
  "widgets": {
   "application/vnd.jupyter.widget-state+json": {
    "state": {},
    "version_major": 2,
    "version_minor": 0
   }
  }
 },
 "nbformat": 4,
 "nbformat_minor": 5
}
